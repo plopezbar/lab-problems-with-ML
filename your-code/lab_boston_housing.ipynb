{
 "cells": [
  {
   "cell_type": "markdown",
   "metadata": {},
   "source": [
    "# Understanding Over & Underfitting\n",
    "## Predicting Boston Housing Prices"
   ]
  },
  {
   "cell_type": "markdown",
   "metadata": {},
   "source": [
    "## Getting Started\n",
    "In this project, you will use the Boston Housing Prices dataset to build several models to predict the prices of homes with particular qualities from the suburbs of Boston, MA.\n",
    "We will build models with several different parameters, which will change the goodness of fit for each. "
   ]
  },
  {
   "cell_type": "markdown",
   "metadata": {},
   "source": [
    "---\n",
    "## Data Exploration\n",
    "Since we want to predict the value of houses, the **target variable**, `'MEDV'`, will be the variable we seek to predict."
   ]
  },
  {
   "cell_type": "markdown",
   "metadata": {},
   "source": [
    "### Import and explore the data. Clean the data for outliers and missing values. "
   ]
  },
  {
   "cell_type": "code",
   "execution_count": 122,
   "metadata": {},
   "outputs": [],
   "source": [
    "import numpy as np\n",
    "import pandas as pd\n",
    "import matplotlib.pyplot as plt\n",
    "import seaborn as sns\n",
    "from scipy import stats\n",
    "import plotly.express as px\n",
    "from sklearn.model_selection import train_test_split, GridSearchCV\n",
    "from sklearn.ensemble import RandomForestRegressor\n",
    "import warnings"
   ]
  },
  {
   "cell_type": "code",
   "execution_count": 84,
   "metadata": {},
   "outputs": [
    {
     "data": {
      "text/html": [
       "<div>\n",
       "<style scoped>\n",
       "    .dataframe tbody tr th:only-of-type {\n",
       "        vertical-align: middle;\n",
       "    }\n",
       "\n",
       "    .dataframe tbody tr th {\n",
       "        vertical-align: top;\n",
       "    }\n",
       "\n",
       "    .dataframe thead th {\n",
       "        text-align: right;\n",
       "    }\n",
       "</style>\n",
       "<table border=\"1\" class=\"dataframe\">\n",
       "  <thead>\n",
       "    <tr style=\"text-align: right;\">\n",
       "      <th></th>\n",
       "      <th>crim</th>\n",
       "      <th>zn</th>\n",
       "      <th>indus</th>\n",
       "      <th>chas</th>\n",
       "      <th>nox</th>\n",
       "      <th>rm</th>\n",
       "      <th>age</th>\n",
       "      <th>dis</th>\n",
       "      <th>rad</th>\n",
       "      <th>tax</th>\n",
       "      <th>ptratio</th>\n",
       "      <th>black</th>\n",
       "      <th>lstat</th>\n",
       "      <th>medv</th>\n",
       "    </tr>\n",
       "  </thead>\n",
       "  <tbody>\n",
       "    <tr>\n",
       "      <td>0</td>\n",
       "      <td>0.15876</td>\n",
       "      <td>0.0</td>\n",
       "      <td>10.81</td>\n",
       "      <td>0.0</td>\n",
       "      <td>0.413</td>\n",
       "      <td>5.961</td>\n",
       "      <td>17.5</td>\n",
       "      <td>5.2873</td>\n",
       "      <td>4.0</td>\n",
       "      <td>305.0</td>\n",
       "      <td>19.2</td>\n",
       "      <td>376.94</td>\n",
       "      <td>9.88</td>\n",
       "      <td>21.7</td>\n",
       "    </tr>\n",
       "    <tr>\n",
       "      <td>1</td>\n",
       "      <td>0.10328</td>\n",
       "      <td>25.0</td>\n",
       "      <td>5.13</td>\n",
       "      <td>0.0</td>\n",
       "      <td>0.453</td>\n",
       "      <td>5.927</td>\n",
       "      <td>47.2</td>\n",
       "      <td>6.9320</td>\n",
       "      <td>8.0</td>\n",
       "      <td>284.0</td>\n",
       "      <td>19.7</td>\n",
       "      <td>396.90</td>\n",
       "      <td>9.22</td>\n",
       "      <td>19.6</td>\n",
       "    </tr>\n",
       "    <tr>\n",
       "      <td>2</td>\n",
       "      <td>0.34940</td>\n",
       "      <td>0.0</td>\n",
       "      <td>9.90</td>\n",
       "      <td>0.0</td>\n",
       "      <td>0.544</td>\n",
       "      <td>5.972</td>\n",
       "      <td>76.7</td>\n",
       "      <td>3.1025</td>\n",
       "      <td>4.0</td>\n",
       "      <td>304.0</td>\n",
       "      <td>18.4</td>\n",
       "      <td>396.24</td>\n",
       "      <td>9.97</td>\n",
       "      <td>20.3</td>\n",
       "    </tr>\n",
       "    <tr>\n",
       "      <td>3</td>\n",
       "      <td>2.73397</td>\n",
       "      <td>0.0</td>\n",
       "      <td>19.58</td>\n",
       "      <td>0.0</td>\n",
       "      <td>0.871</td>\n",
       "      <td>5.597</td>\n",
       "      <td>94.9</td>\n",
       "      <td>1.5257</td>\n",
       "      <td>5.0</td>\n",
       "      <td>403.0</td>\n",
       "      <td>14.7</td>\n",
       "      <td>351.85</td>\n",
       "      <td>21.45</td>\n",
       "      <td>15.4</td>\n",
       "    </tr>\n",
       "    <tr>\n",
       "      <td>4</td>\n",
       "      <td>0.04337</td>\n",
       "      <td>21.0</td>\n",
       "      <td>5.64</td>\n",
       "      <td>0.0</td>\n",
       "      <td>0.439</td>\n",
       "      <td>6.115</td>\n",
       "      <td>63.0</td>\n",
       "      <td>6.8147</td>\n",
       "      <td>4.0</td>\n",
       "      <td>243.0</td>\n",
       "      <td>16.8</td>\n",
       "      <td>393.97</td>\n",
       "      <td>9.43</td>\n",
       "      <td>20.5</td>\n",
       "    </tr>\n",
       "  </tbody>\n",
       "</table>\n",
       "</div>"
      ],
      "text/plain": [
       "      crim    zn  indus  chas    nox     rm   age     dis  rad    tax  \\\n",
       "0  0.15876   0.0  10.81   0.0  0.413  5.961  17.5  5.2873  4.0  305.0   \n",
       "1  0.10328  25.0   5.13   0.0  0.453  5.927  47.2  6.9320  8.0  284.0   \n",
       "2  0.34940   0.0   9.90   0.0  0.544  5.972  76.7  3.1025  4.0  304.0   \n",
       "3  2.73397   0.0  19.58   0.0  0.871  5.597  94.9  1.5257  5.0  403.0   \n",
       "4  0.04337  21.0   5.64   0.0  0.439  6.115  63.0  6.8147  4.0  243.0   \n",
       "\n",
       "   ptratio   black  lstat  medv  \n",
       "0     19.2  376.94   9.88  21.7  \n",
       "1     19.7  396.90   9.22  19.6  \n",
       "2     18.4  396.24   9.97  20.3  \n",
       "3     14.7  351.85  21.45  15.4  \n",
       "4     16.8  393.97   9.43  20.5  "
      ]
     },
     "execution_count": 84,
     "metadata": {},
     "output_type": "execute_result"
    }
   ],
   "source": [
    "data = pd.read_csv('../data/boston_data.csv')\n",
    "data.head()"
   ]
  },
  {
   "cell_type": "code",
   "execution_count": 85,
   "metadata": {},
   "outputs": [
    {
     "name": "stdout",
     "output_type": "stream",
     "text": [
      "<class 'pandas.core.frame.DataFrame'>\n",
      "RangeIndex: 404 entries, 0 to 403\n",
      "Data columns (total 14 columns):\n",
      "crim       404 non-null float64\n",
      "zn         404 non-null float64\n",
      "indus      404 non-null float64\n",
      "chas       404 non-null float64\n",
      "nox        404 non-null float64\n",
      "rm         404 non-null float64\n",
      "age        404 non-null float64\n",
      "dis        404 non-null float64\n",
      "rad        404 non-null float64\n",
      "tax        404 non-null float64\n",
      "ptratio    404 non-null float64\n",
      "black      404 non-null float64\n",
      "lstat      404 non-null float64\n",
      "medv       404 non-null float64\n",
      "dtypes: float64(14)\n",
      "memory usage: 44.3 KB\n"
     ]
    }
   ],
   "source": [
    "data.info()"
   ]
  },
  {
   "cell_type": "code",
   "execution_count": 86,
   "metadata": {},
   "outputs": [
    {
     "data": {
      "text/html": [
       "<div>\n",
       "<style scoped>\n",
       "    .dataframe tbody tr th:only-of-type {\n",
       "        vertical-align: middle;\n",
       "    }\n",
       "\n",
       "    .dataframe tbody tr th {\n",
       "        vertical-align: top;\n",
       "    }\n",
       "\n",
       "    .dataframe thead th {\n",
       "        text-align: right;\n",
       "    }\n",
       "</style>\n",
       "<table border=\"1\" class=\"dataframe\">\n",
       "  <thead>\n",
       "    <tr style=\"text-align: right;\">\n",
       "      <th></th>\n",
       "      <th>crim</th>\n",
       "      <th>zn</th>\n",
       "      <th>indus</th>\n",
       "      <th>chas</th>\n",
       "      <th>nox</th>\n",
       "      <th>rm</th>\n",
       "      <th>age</th>\n",
       "      <th>dis</th>\n",
       "      <th>rad</th>\n",
       "      <th>tax</th>\n",
       "      <th>ptratio</th>\n",
       "      <th>black</th>\n",
       "      <th>lstat</th>\n",
       "      <th>medv</th>\n",
       "    </tr>\n",
       "  </thead>\n",
       "  <tbody>\n",
       "    <tr>\n",
       "      <td>count</td>\n",
       "      <td>404.000000</td>\n",
       "      <td>404.000000</td>\n",
       "      <td>404.000000</td>\n",
       "      <td>404.000000</td>\n",
       "      <td>404.000000</td>\n",
       "      <td>404.00000</td>\n",
       "      <td>404.000000</td>\n",
       "      <td>404.000000</td>\n",
       "      <td>404.000000</td>\n",
       "      <td>404.000000</td>\n",
       "      <td>404.000000</td>\n",
       "      <td>404.000000</td>\n",
       "      <td>404.000000</td>\n",
       "      <td>404.000000</td>\n",
       "    </tr>\n",
       "    <tr>\n",
       "      <td>mean</td>\n",
       "      <td>3.730912</td>\n",
       "      <td>10.509901</td>\n",
       "      <td>11.189901</td>\n",
       "      <td>0.069307</td>\n",
       "      <td>0.556710</td>\n",
       "      <td>6.30145</td>\n",
       "      <td>68.601733</td>\n",
       "      <td>3.799666</td>\n",
       "      <td>9.836634</td>\n",
       "      <td>411.688119</td>\n",
       "      <td>18.444554</td>\n",
       "      <td>355.068243</td>\n",
       "      <td>12.598936</td>\n",
       "      <td>22.312376</td>\n",
       "    </tr>\n",
       "    <tr>\n",
       "      <td>std</td>\n",
       "      <td>8.943922</td>\n",
       "      <td>22.053733</td>\n",
       "      <td>6.814909</td>\n",
       "      <td>0.254290</td>\n",
       "      <td>0.117321</td>\n",
       "      <td>0.67583</td>\n",
       "      <td>28.066143</td>\n",
       "      <td>2.109916</td>\n",
       "      <td>8.834741</td>\n",
       "      <td>171.073553</td>\n",
       "      <td>2.150295</td>\n",
       "      <td>94.489572</td>\n",
       "      <td>6.925173</td>\n",
       "      <td>8.837019</td>\n",
       "    </tr>\n",
       "    <tr>\n",
       "      <td>min</td>\n",
       "      <td>0.006320</td>\n",
       "      <td>0.000000</td>\n",
       "      <td>0.460000</td>\n",
       "      <td>0.000000</td>\n",
       "      <td>0.392000</td>\n",
       "      <td>3.56100</td>\n",
       "      <td>2.900000</td>\n",
       "      <td>1.169100</td>\n",
       "      <td>1.000000</td>\n",
       "      <td>187.000000</td>\n",
       "      <td>12.600000</td>\n",
       "      <td>0.320000</td>\n",
       "      <td>1.730000</td>\n",
       "      <td>5.000000</td>\n",
       "    </tr>\n",
       "    <tr>\n",
       "      <td>25%</td>\n",
       "      <td>0.082382</td>\n",
       "      <td>0.000000</td>\n",
       "      <td>5.190000</td>\n",
       "      <td>0.000000</td>\n",
       "      <td>0.453000</td>\n",
       "      <td>5.90275</td>\n",
       "      <td>45.800000</td>\n",
       "      <td>2.087875</td>\n",
       "      <td>4.000000</td>\n",
       "      <td>281.000000</td>\n",
       "      <td>17.375000</td>\n",
       "      <td>374.710000</td>\n",
       "      <td>7.135000</td>\n",
       "      <td>17.100000</td>\n",
       "    </tr>\n",
       "    <tr>\n",
       "      <td>50%</td>\n",
       "      <td>0.253715</td>\n",
       "      <td>0.000000</td>\n",
       "      <td>9.795000</td>\n",
       "      <td>0.000000</td>\n",
       "      <td>0.538000</td>\n",
       "      <td>6.23050</td>\n",
       "      <td>76.600000</td>\n",
       "      <td>3.207450</td>\n",
       "      <td>5.000000</td>\n",
       "      <td>330.000000</td>\n",
       "      <td>19.000000</td>\n",
       "      <td>391.065000</td>\n",
       "      <td>11.265000</td>\n",
       "      <td>21.400000</td>\n",
       "    </tr>\n",
       "    <tr>\n",
       "      <td>75%</td>\n",
       "      <td>4.053158</td>\n",
       "      <td>12.500000</td>\n",
       "      <td>18.100000</td>\n",
       "      <td>0.000000</td>\n",
       "      <td>0.631000</td>\n",
       "      <td>6.62925</td>\n",
       "      <td>94.150000</td>\n",
       "      <td>5.222125</td>\n",
       "      <td>24.000000</td>\n",
       "      <td>666.000000</td>\n",
       "      <td>20.200000</td>\n",
       "      <td>396.007500</td>\n",
       "      <td>16.910000</td>\n",
       "      <td>25.000000</td>\n",
       "    </tr>\n",
       "    <tr>\n",
       "      <td>max</td>\n",
       "      <td>88.976200</td>\n",
       "      <td>95.000000</td>\n",
       "      <td>27.740000</td>\n",
       "      <td>1.000000</td>\n",
       "      <td>0.871000</td>\n",
       "      <td>8.78000</td>\n",
       "      <td>100.000000</td>\n",
       "      <td>12.126500</td>\n",
       "      <td>24.000000</td>\n",
       "      <td>711.000000</td>\n",
       "      <td>22.000000</td>\n",
       "      <td>396.900000</td>\n",
       "      <td>34.370000</td>\n",
       "      <td>50.000000</td>\n",
       "    </tr>\n",
       "  </tbody>\n",
       "</table>\n",
       "</div>"
      ],
      "text/plain": [
       "             crim          zn       indus        chas         nox         rm  \\\n",
       "count  404.000000  404.000000  404.000000  404.000000  404.000000  404.00000   \n",
       "mean     3.730912   10.509901   11.189901    0.069307    0.556710    6.30145   \n",
       "std      8.943922   22.053733    6.814909    0.254290    0.117321    0.67583   \n",
       "min      0.006320    0.000000    0.460000    0.000000    0.392000    3.56100   \n",
       "25%      0.082382    0.000000    5.190000    0.000000    0.453000    5.90275   \n",
       "50%      0.253715    0.000000    9.795000    0.000000    0.538000    6.23050   \n",
       "75%      4.053158   12.500000   18.100000    0.000000    0.631000    6.62925   \n",
       "max     88.976200   95.000000   27.740000    1.000000    0.871000    8.78000   \n",
       "\n",
       "              age         dis         rad         tax     ptratio       black  \\\n",
       "count  404.000000  404.000000  404.000000  404.000000  404.000000  404.000000   \n",
       "mean    68.601733    3.799666    9.836634  411.688119   18.444554  355.068243   \n",
       "std     28.066143    2.109916    8.834741  171.073553    2.150295   94.489572   \n",
       "min      2.900000    1.169100    1.000000  187.000000   12.600000    0.320000   \n",
       "25%     45.800000    2.087875    4.000000  281.000000   17.375000  374.710000   \n",
       "50%     76.600000    3.207450    5.000000  330.000000   19.000000  391.065000   \n",
       "75%     94.150000    5.222125   24.000000  666.000000   20.200000  396.007500   \n",
       "max    100.000000   12.126500   24.000000  711.000000   22.000000  396.900000   \n",
       "\n",
       "            lstat        medv  \n",
       "count  404.000000  404.000000  \n",
       "mean    12.598936   22.312376  \n",
       "std      6.925173    8.837019  \n",
       "min      1.730000    5.000000  \n",
       "25%      7.135000   17.100000  \n",
       "50%     11.265000   21.400000  \n",
       "75%     16.910000   25.000000  \n",
       "max     34.370000   50.000000  "
      ]
     },
     "execution_count": 86,
     "metadata": {},
     "output_type": "execute_result"
    }
   ],
   "source": [
    "data.describe()"
   ]
  },
  {
   "cell_type": "code",
   "execution_count": 87,
   "metadata": {
    "scrolled": true
   },
   "outputs": [
    {
     "data": {
      "text/plain": [
       "crim       0\n",
       "zn         0\n",
       "indus      0\n",
       "chas       0\n",
       "nox        0\n",
       "rm         0\n",
       "age        0\n",
       "dis        0\n",
       "rad        0\n",
       "tax        0\n",
       "ptratio    0\n",
       "black      0\n",
       "lstat      0\n",
       "medv       0\n",
       "dtype: int64"
      ]
     },
     "execution_count": 87,
     "metadata": {},
     "output_type": "execute_result"
    }
   ],
   "source": [
    "# Missing values:\n",
    "\n",
    "data.isnull().sum()\n",
    "# data.isnull().sum().sum()"
   ]
  },
  {
   "cell_type": "code",
   "execution_count": 88,
   "metadata": {},
   "outputs": [
    {
     "data": {
      "text/plain": [
       "'\\nFor each column, first it computes the Z-score of each value, \\nrelative to the column mean and standard deviation.\\n\\nThen is takes the absolute of Z-score because the direction does not matter,\\nonly if it is below the threshold.\\n\\n'"
      ]
     },
     "execution_count": 88,
     "metadata": {},
     "output_type": "execute_result"
    }
   ],
   "source": [
    "# Outliers:\n",
    "\n",
    "data = data[(np.abs(stats.zscore(data)) < 3.75).all(axis=1)]\n",
    "\n",
    "\n",
    "\n",
    "# For each column, first it computes the Z-score of each value, \n",
    "# relative to the column mean and standard deviation.\n",
    "\n",
    "# Then is takes the absolute of Z-score because the direction does not matter,\n",
    "# only if it is below the threshold."
   ]
  },
  {
   "cell_type": "code",
   "execution_count": 89,
   "metadata": {},
   "outputs": [
    {
     "data": {
      "text/plain": [
       "(391, 14)"
      ]
     },
     "execution_count": 89,
     "metadata": {},
     "output_type": "execute_result"
    }
   ],
   "source": [
    "data.shape"
   ]
  },
  {
   "cell_type": "markdown",
   "metadata": {},
   "source": [
    "### Next, we want to explore the data. Pick several varibables you think will be ost correlated with the prices of homes in Boston, and create plots that show the data dispersion as well as the regression line of best fit."
   ]
  },
  {
   "cell_type": "code",
   "execution_count": 96,
   "metadata": {
    "scrolled": true
   },
   "outputs": [
    {
     "data": {
      "text/plain": [
       "<matplotlib.axes._subplots.AxesSubplot at 0x1a31324990>"
      ]
     },
     "execution_count": 96,
     "metadata": {},
     "output_type": "execute_result"
    },
    {
     "data": {
      "image/png": "[encoded data removed]",
      "text/plain": [
       "<Figure size 864x576 with 2 Axes>"
      ]
     },
     "metadata": {},
     "output_type": "display_data"
    }
   ],
   "source": [
    "corr = data.corr()\n",
    "\n",
    "sns.set(rc={'figure.figsize':(12,8)})\n",
    "\n",
    "mask = np.triu(np.ones_like(corr, dtype=np.bool))\n",
    "cmap = sns.diverging_palette(275, 150, as_cmap=True)\n",
    "sns.heatmap(corr, mask=mask, cmap=cmap, center=0,\n",
    "            square=True, linewidths=2, annot=True)"
   ]
  },
  {
   "cell_type": "code",
   "execution_count": 102,
   "metadata": {
    "scrolled": true
   },
   "outputs": [
    {
     "data": {
      "application/vnd.plotly.v1+json": {
       "config": {
        "plotlyServerURL": "https://plot.ly"
       },
       "data": [
        {
         "hoverlabel": {
          "namelength": 0
         },
         "hovertemplate": "lstat=%{x}<br>medv=%{y}",
         "legendgroup": "",
         "marker": {
          "color": "#636efa",
          "symbol": "circle"
         },
         "mode": "markers",
         "name": "",
         "showlegend": false,
         "type": "scatter",
         "x": [
          9.88,
          9.22,
          9.97,
          21.45,
          9.43,
          5.39,
          6.56,
          7.9,
          19.69,
          15.12,
          26.64,
          7.37,
          11.98,
          6.73,
          26.45,
          7.74,
          11.22,
          24.91,
          14.1,
          7.39,
          24.08,
          11.12,
          10.27,
          5.33,
          8.65,
          11.5,
          16.59,
          5.03,
          6.57,
          7.79,
          4.38,
          9.45,
          10.4,
          18.33,
          6.87,
          4.45,
          8.05,
          19.01,
          4.85,
          14.19,
          27.8,
          7.22,
          10.29,
          12.67,
          16.2,
          16.29,
          15.02,
          7.26,
          23.27,
          23.69,
          23.6,
          11.25,
          3.11,
          4.14,
          7.01,
          6.58,
          10.88,
          10.26,
          21.78,
          16.74,
          29.05,
          7.53,
          8.16,
          4.03,
          9.5,
          16.03,
          14.59,
          6.48,
          7.43,
          3.73,
          13,
          12.27,
          6.47,
          7.79,
          8.2,
          19.92,
          7.14,
          14.64,
          11.28,
          19.52,
          11.45,
          16.42,
          14.13,
          3.16,
          9.14,
          11.97,
          7.44,
          13.33,
          8.51,
          16.94,
          22.6,
          10.45,
          17.12,
          7.54,
          12.8,
          4.59,
          23.98,
          16.44,
          4.84,
          7.56,
          3.53,
          7.6,
          24.16,
          5.99,
          5.49,
          4.59,
          5.21,
          9.74,
          6.62,
          26.42,
          12.33,
          9.28,
          7.2,
          17.11,
          12.64,
          12.01,
          16.51,
          4.32,
          29.29,
          16.3,
          29.55,
          10.11,
          8.93,
          9.68,
          11.34,
          13.98,
          11.1,
          5.33,
          17.27,
          5.04,
          21.46,
          9.51,
          14.1,
          13.04,
          24.56,
          21.22,
          13.27,
          28.28,
          23.97,
          10.13,
          12.03,
          4.82,
          5.29,
          18.13,
          14.66,
          12.26,
          10.74,
          10.15,
          5.28,
          20.34,
          3.13,
          4.56,
          26.82,
          20.31,
          5.49,
          11.41,
          13.83,
          8.77,
          13.27,
          9.93,
          30.63,
          14,
          17.1,
          34.02,
          11.64,
          11.69,
          16.35,
          9.67,
          9.69,
          5.89,
          23.34,
          13,
          23.24,
          19.78,
          17.73,
          17.09,
          15.71,
          15.69,
          14.15,
          6.21,
          7.67,
          15.55,
          9.64,
          20.85,
          12.79,
          8.61,
          17.58,
          6.9,
          15.79,
          23.98,
          6.27,
          5.5,
          9.1,
          5.12,
          12.4,
          4.16,
          26.4,
          14.69,
          9.71,
          24.1,
          13.11,
          14.98,
          25.68,
          8.1,
          8.43,
          4.08,
          5.08,
          17.16,
          17.93,
          5.64,
          19.31,
          12.12,
          10.87,
          13.28,
          29.68,
          12.87,
          23.29,
          6.07,
          15.02,
          1.73,
          9.04,
          6.68,
          11.38,
          5.98,
          25.41,
          6.36,
          11.74,
          14.7,
          20.45,
          18.85,
          6.05,
          8.79,
          12.92,
          11.72,
          11.32,
          21.14,
          7.19,
          22.74,
          6.75,
          6.72,
          6.12,
          13.51,
          8.05,
          5.57,
          6.29,
          17.6,
          15.84,
          5.9,
          13.61,
          34.37,
          7.51,
          21.08,
          30.81,
          12.34,
          9.5,
          9.54,
          10.21,
          12.43,
          13.09,
          10.42,
          6.43,
          16.23,
          10.53,
          3.32,
          15.17,
          18.76,
          14.27,
          4.54,
          15.7,
          15.94,
          3.92,
          13.44,
          20.32,
          12.03,
          9.55,
          9.38,
          6.19,
          13.22,
          17.28,
          16.14,
          12.5,
          9.62,
          14.43,
          10.56,
          21.32,
          8.47,
          17.27,
          8.94,
          12.04,
          6.53,
          18.06,
          7.6,
          2.47,
          24.39,
          18.46,
          6.78,
          8.67,
          5.81,
          16.9,
          17.64,
          2.94,
          18.13,
          18.03,
          2.97,
          18.66,
          15.17,
          3.76,
          5.25,
          3.54,
          7.73,
          4.67,
          14.79,
          19.88,
          4.74,
          19.37,
          9.08,
          7.7,
          5.98,
          16.47,
          3.59,
          13.35,
          17.6,
          18.71,
          19.15,
          5.19,
          29.97,
          3.33,
          14.36,
          10.36,
          7.39,
          10.5,
          18.07,
          13.15,
          13.99,
          5.29,
          4.86,
          9.53,
          9.42,
          7.79,
          5.68,
          18.46,
          3.7,
          8.1,
          18.35,
          18.05,
          15.37,
          4.61,
          9.52,
          8.05,
          6.92,
          5.68,
          9.09,
          29.93,
          9.29,
          21.32,
          27.26,
          4.98,
          8.81,
          13.65,
          5.7,
          28.32,
          13.15,
          11.66,
          21.52,
          9.97,
          7.44,
          26.77,
          10.19,
          30.62,
          4.69,
          2.96,
          16.22,
          30.81,
          10.58,
          21.24,
          14.8,
          3.95,
          10.97,
          6.58,
          7.18,
          6.72,
          1.98,
          8.58,
          12.86,
          14.37,
          10.16,
          14.81,
          18.13,
          3.16,
          5.77,
          6.36
         ],
         "xaxis": "x",
         "y": [
          21.7,
          19.6,
          20.3,
          15.4,
          20.5,
          34.9,
          26.2,
          21.6,
          14.1,
          17,
          10.4,
          23.3,
          21,
          22.2,
          8.7,
          23.7,
          22.2,
          12,
          21.5,
          23.3,
          9.5,
          23,
          20.8,
          29.4,
          16.5,
          16.2,
          18.4,
          31.1,
          21.9,
          18.6,
          29.1,
          36.2,
          21.7,
          17.8,
          23.1,
          50,
          29,
          12.7,
          35.1,
          19.9,
          13.8,
          23.9,
          20.2,
          22.6,
          19.4,
          19.9,
          15.6,
          43.1,
          13.4,
          13.1,
          11.3,
          31,
          42.3,
          44.8,
          25,
          35.2,
          24,
          18.2,
          10.2,
          17.8,
          7.2,
          28.2,
          22.9,
          34.7,
          22,
          22.4,
          17.1,
          22,
          24.1,
          50,
          21.7,
          19.8,
          33.4,
          25,
          22,
          8.5,
          23.2,
          16.8,
          18.2,
          17.1,
          20.6,
          16.4,
          19.9,
          43.5,
          21.6,
          20,
          50,
          23.1,
          20.6,
          13.5,
          12.7,
          18.5,
          13.1,
          23.4,
          18.4,
          35.4,
          19.3,
          12.6,
          26.6,
          39.8,
          29.6,
          30.1,
          14,
          24.5,
          32.7,
          41.3,
          28.7,
          19,
          34.6,
          15.6,
          20.1,
          23.8,
          23.8,
          15.1,
          16.1,
          21.8,
          13.9,
          30.8,
          11.8,
          15.6,
          23.7,
          23.2,
          28.4,
          18.9,
          21.4,
          26.4,
          23.8,
          36.2,
          16.1,
          37.2,
          21.7,
          24.8,
          20.8,
          14.5,
          12.3,
          17.2,
          18.9,
          10.5,
          7,
          24.7,
          16.1,
          37.9,
          21.9,
          19.1,
          24.4,
          19.6,
          23,
          20.5,
          25,
          13.5,
          37.6,
          29.8,
          13.4,
          12.1,
          24.1,
          20,
          19.6,
          21,
          21.7,
          27.5,
          8.8,
          21.9,
          18.9,
          8.4,
          22.7,
          20.2,
          12.7,
          22.4,
          28.7,
          26.6,
          11.9,
          21.1,
          13.9,
          27.5,
          15.2,
          18.7,
          21.7,
          10.2,
          20,
          25,
          26.5,
          19.4,
          22.6,
          11.5,
          22.2,
          30.3,
          18.8,
          30.1,
          19.4,
          11.8,
          28.6,
          27,
          20.3,
          50,
          20.1,
          33.1,
          17.2,
          23.1,
          26.7,
          13.3,
          21.4,
          19.1,
          9.7,
          36.5,
          23.4,
          33.3,
          24.6,
          11.7,
          20.5,
          23.9,
          13,
          15.3,
          22.6,
          19.6,
          8.1,
          19.6,
          13.4,
          24.8,
          16.7,
          50,
          23.6,
          32,
          22,
          22.9,
          17.3,
          23.1,
          18.5,
          20,
          15,
          15.4,
          33.2,
          20.9,
          21.2,
          19.4,
          22.3,
          19.7,
          29.1,
          8.4,
          20.7,
          24.8,
          25,
          23.3,
          18.2,
          20.6,
          24.6,
          17.8,
          20.3,
          24.4,
          19.3,
          17.9,
          22.9,
          10.9,
          7.2,
          21.2,
          25,
          25.1,
          19.3,
          22.9,
          17.4,
          21.8,
          24.3,
          14.9,
          17.5,
          50,
          13.8,
          23.2,
          20.3,
          22.8,
          14.2,
          19.8,
          46.7,
          15,
          7.2,
          19.1,
          21.2,
          28.1,
          33.2,
          21.4,
          14.8,
          13.1,
          17.6,
          23.9,
          17.4,
          18.5,
          13.3,
          19.9,
          21.7,
          21.4,
          21.2,
          26.6,
          22.5,
          22.3,
          41.7,
          8.3,
          18.5,
          24.1,
          26.4,
          25.3,
          17.4,
          14.5,
          33.4,
          14.1,
          14.6,
          50,
          19.5,
          11.7,
          31.5,
          31.7,
          42.8,
          24.4,
          23.5,
          30.7,
          14.5,
          29,
          12.5,
          20.6,
          20.4,
          22.1,
          19.5,
          24.8,
          20.1,
          23.1,
          14.9,
          27.1,
          23.7,
          6.3,
          28.5,
          23.2,
          23.1,
          27.1,
          23,
          13.6,
          29.6,
          19.5,
          28,
          33.1,
          50,
          27.5,
          36,
          32.5,
          17.8,
          50,
          22,
          13.1,
          9.6,
          20.4,
          31.2,
          24.5,
          33,
          29.9,
          22.2,
          19.8,
          16.5,
          18.7,
          19.1,
          15.7,
          24,
          22.6,
          20.7,
          28.7,
          17.8,
          18.7,
          29.8,
          11,
          19.3,
          24.7,
          5.6,
          20.8,
          10.2,
          30.5,
          50,
          14.3,
          14.4,
          21.2,
          13.3,
          18.9,
          48.3,
          24.4,
          23.1,
          23.9,
          24.2,
          34.9,
          23.9,
          22.5,
          22,
          22.8,
          16.6,
          14.1,
          50,
          24.7,
          23.7
         ],
         "yaxis": "y"
        }
       ],
       "layout": {
        "legend": {
         "tracegroupgap": 0
        },
        "template": {
         "data": {
          "bar": [
           {
            "error_x": {
             "color": "#2a3f5f"
            },
            "error_y": {
             "color": "#2a3f5f"
            },
            "marker": {
             "line": {
              "color": "#E5ECF6",
              "width": 0.5
             }
            },
            "type": "bar"
           }
          ],
          "barpolar": [
           {
            "marker": {
             "line": {
              "color": "#E5ECF6",
              "width": 0.5
             }
            },
            "type": "barpolar"
           }
          ],
          "carpet": [
           {
            "aaxis": {
             "endlinecolor": "#2a3f5f",
             "gridcolor": "white",
             "linecolor": "white",
             "minorgridcolor": "white",
             "startlinecolor": "#2a3f5f"
            },
            "baxis": {
             "endlinecolor": "#2a3f5f",
             "gridcolor": "white",
             "linecolor": "white",
             "minorgridcolor": "white",
             "startlinecolor": "#2a3f5f"
            },
            "type": "carpet"
           }
          ],
          "choropleth": [
           {
            "colorbar": {
             "outlinewidth": 0,
             "ticks": ""
            },
            "type": "choropleth"
           }
          ],
          "contour": [
           {
            "colorbar": {
             "outlinewidth": 0,
             "ticks": ""
            },
            "colorscale": [
             [
              0,
              "#0d0887"
             ],
             [
              0.1111111111111111,
              "#46039f"
             ],
             [
              0.2222222222222222,
              "#7201a8"
             ],
             [
              0.3333333333333333,
              "#9c179e"
             ],
             [
              0.4444444444444444,
              "#bd3786"
             ],
             [
              0.5555555555555556,
              "#d8576b"
             ],
             [
              0.6666666666666666,
              "#ed7953"
             ],
             [
              0.7777777777777778,
              "#fb9f3a"
             ],
             [
              0.8888888888888888,
              "#fdca26"
             ],
             [
              1,
              "#f0f921"
             ]
            ],
            "type": "contour"
           }
          ],
          "contourcarpet": [
           {
            "colorbar": {
             "outlinewidth": 0,
             "ticks": ""
            },
            "type": "contourcarpet"
           }
          ],
          "heatmap": [
           {
            "colorbar": {
             "outlinewidth": 0,
             "ticks": ""
            },
            "colorscale": [
             [
              0,
              "#0d0887"
             ],
             [
              0.1111111111111111,
              "#46039f"
             ],
             [
              0.2222222222222222,
              "#7201a8"
             ],
             [
              0.3333333333333333,
              "#9c179e"
             ],
             [
              0.4444444444444444,
              "#bd3786"
             ],
             [
              0.5555555555555556,
              "#d8576b"
             ],
             [
              0.6666666666666666,
              "#ed7953"
             ],
             [
              0.7777777777777778,
              "#fb9f3a"
             ],
             [
              0.8888888888888888,
              "#fdca26"
             ],
             [
              1,
              "#f0f921"
             ]
            ],
            "type": "heatmap"
           }
          ],
          "heatmapgl": [
           {
            "colorbar": {
             "outlinewidth": 0,
             "ticks": ""
            },
            "colorscale": [
             [
              0,
              "#0d0887"
             ],
             [
              0.1111111111111111,
              "#46039f"
             ],
             [
              0.2222222222222222,
              "#7201a8"
             ],
             [
              0.3333333333333333,
              "#9c179e"
             ],
             [
              0.4444444444444444,
              "#bd3786"
             ],
             [
              0.5555555555555556,
              "#d8576b"
             ],
             [
              0.6666666666666666,
              "#ed7953"
             ],
             [
              0.7777777777777778,
              "#fb9f3a"
             ],
             [
              0.8888888888888888,
              "#fdca26"
             ],
             [
              1,
              "#f0f921"
             ]
            ],
            "type": "heatmapgl"
           }
          ],
          "histogram": [
           {
            "marker": {
             "colorbar": {
              "outlinewidth": 0,
              "ticks": ""
             }
            },
            "type": "histogram"
           }
          ],
          "histogram2d": [
           {
            "colorbar": {
             "outlinewidth": 0,
             "ticks": ""
            },
            "colorscale": [
             [
              0,
              "#0d0887"
             ],
             [
              0.1111111111111111,
              "#46039f"
             ],
             [
              0.2222222222222222,
              "#7201a8"
             ],
             [
              0.3333333333333333,
              "#9c179e"
             ],
             [
              0.4444444444444444,
              "#bd3786"
             ],
             [
              0.5555555555555556,
              "#d8576b"
             ],
             [
              0.6666666666666666,
              "#ed7953"
             ],
             [
              0.7777777777777778,
              "#fb9f3a"
             ],
             [
              0.8888888888888888,
              "#fdca26"
             ],
             [
              1,
              "#f0f921"
             ]
            ],
            "type": "histogram2d"
           }
          ],
          "histogram2dcontour": [
           {
            "colorbar": {
             "outlinewidth": 0,
             "ticks": ""
            },
            "colorscale": [
             [
              0,
              "#0d0887"
             ],
             [
              0.1111111111111111,
              "#46039f"
             ],
             [
              0.2222222222222222,
              "#7201a8"
             ],
             [
              0.3333333333333333,
              "#9c179e"
             ],
             [
              0.4444444444444444,
              "#bd3786"
             ],
             [
              0.5555555555555556,
              "#d8576b"
             ],
             [
              0.6666666666666666,
              "#ed7953"
             ],
             [
              0.7777777777777778,
              "#fb9f3a"
             ],
             [
              0.8888888888888888,
              "#fdca26"
             ],
             [
              1,
              "#f0f921"
             ]
            ],
            "type": "histogram2dcontour"
           }
          ],
          "mesh3d": [
           {
            "colorbar": {
             "outlinewidth": 0,
             "ticks": ""
            },
            "type": "mesh3d"
           }
          ],
          "parcoords": [
           {
            "line": {
             "colorbar": {
              "outlinewidth": 0,
              "ticks": ""
             }
            },
            "type": "parcoords"
           }
          ],
          "pie": [
           {
            "automargin": true,
            "type": "pie"
           }
          ],
          "scatter": [
           {
            "marker": {
             "colorbar": {
              "outlinewidth": 0,
              "ticks": ""
             }
            },
            "type": "scatter"
           }
          ],
          "scatter3d": [
           {
            "line": {
             "colorbar": {
              "outlinewidth": 0,
              "ticks": ""
             }
            },
            "marker": {
             "colorbar": {
              "outlinewidth": 0,
              "ticks": ""
             }
            },
            "type": "scatter3d"
           }
          ],
          "scattercarpet": [
           {
            "marker": {
             "colorbar": {
              "outlinewidth": 0,
              "ticks": ""
             }
            },
            "type": "scattercarpet"
           }
          ],
          "scattergeo": [
           {
            "marker": {
             "colorbar": {
              "outlinewidth": 0,
              "ticks": ""
             }
            },
            "type": "scattergeo"
           }
          ],
          "scattergl": [
           {
            "marker": {
             "colorbar": {
              "outlinewidth": 0,
              "ticks": ""
             }
            },
            "type": "scattergl"
           }
          ],
          "scattermapbox": [
           {
            "marker": {
             "colorbar": {
              "outlinewidth": 0,
              "ticks": ""
             }
            },
            "type": "scattermapbox"
           }
          ],
          "scatterpolar": [
           {
            "marker": {
             "colorbar": {
              "outlinewidth": 0,
              "ticks": ""
             }
            },
            "type": "scatterpolar"
           }
          ],
          "scatterpolargl": [
           {
            "marker": {
             "colorbar": {
              "outlinewidth": 0,
              "ticks": ""
             }
            },
            "type": "scatterpolargl"
           }
          ],
          "scatterternary": [
           {
            "marker": {
             "colorbar": {
              "outlinewidth": 0,
              "ticks": ""
             }
            },
            "type": "scatterternary"
           }
          ],
          "surface": [
           {
            "colorbar": {
             "outlinewidth": 0,
             "ticks": ""
            },
            "colorscale": [
             [
              0,
              "#0d0887"
             ],
             [
              0.1111111111111111,
              "#46039f"
             ],
             [
              0.2222222222222222,
              "#7201a8"
             ],
             [
              0.3333333333333333,
              "#9c179e"
             ],
             [
              0.4444444444444444,
              "#bd3786"
             ],
             [
              0.5555555555555556,
              "#d8576b"
             ],
             [
              0.6666666666666666,
              "#ed7953"
             ],
             [
              0.7777777777777778,
              "#fb9f3a"
             ],
             [
              0.8888888888888888,
              "#fdca26"
             ],
             [
              1,
              "#f0f921"
             ]
            ],
            "type": "surface"
           }
          ],
          "table": [
           {
            "cells": {
             "fill": {
              "color": "#EBF0F8"
             },
             "line": {
              "color": "white"
             }
            },
            "header": {
             "fill": {
              "color": "#C8D4E3"
             },
             "line": {
              "color": "white"
             }
            },
            "type": "table"
           }
          ]
         },
         "layout": {
          "annotationdefaults": {
           "arrowcolor": "#2a3f5f",
           "arrowhead": 0,
           "arrowwidth": 1
          },
          "coloraxis": {
           "colorbar": {
            "outlinewidth": 0,
            "ticks": ""
           }
          },
          "colorscale": {
           "diverging": [
            [
             0,
             "#8e0152"
            ],
            [
             0.1,
             "#c51b7d"
            ],
            [
             0.2,
             "#de77ae"
            ],
            [
             0.3,
             "#f1b6da"
            ],
            [
             0.4,
             "#fde0ef"
            ],
            [
             0.5,
             "#f7f7f7"
            ],
            [
             0.6,
             "#e6f5d0"
            ],
            [
             0.7,
             "#b8e186"
            ],
            [
             0.8,
             "#7fbc41"
            ],
            [
             0.9,
             "#4d9221"
            ],
            [
             1,
             "#276419"
            ]
           ],
           "sequential": [
            [
             0,
             "#0d0887"
            ],
            [
             0.1111111111111111,
             "#46039f"
            ],
            [
             0.2222222222222222,
             "#7201a8"
            ],
            [
             0.3333333333333333,
             "#9c179e"
            ],
            [
             0.4444444444444444,
             "#bd3786"
            ],
            [
             0.5555555555555556,
             "#d8576b"
            ],
            [
             0.6666666666666666,
             "#ed7953"
            ],
            [
             0.7777777777777778,
             "#fb9f3a"
            ],
            [
             0.8888888888888888,
             "#fdca26"
            ],
            [
             1,
             "#f0f921"
            ]
           ],
           "sequentialminus": [
            [
             0,
             "#0d0887"
            ],
            [
             0.1111111111111111,
             "#46039f"
            ],
            [
             0.2222222222222222,
             "#7201a8"
            ],
            [
             0.3333333333333333,
             "#9c179e"
            ],
            [
             0.4444444444444444,
             "#bd3786"
            ],
            [
             0.5555555555555556,
             "#d8576b"
            ],
            [
             0.6666666666666666,
             "#ed7953"
            ],
            [
             0.7777777777777778,
             "#fb9f3a"
            ],
            [
             0.8888888888888888,
             "#fdca26"
            ],
            [
             1,
             "#f0f921"
            ]
           ]
          },
          "colorway": [
           "#636efa",
           "#EF553B",
           "#00cc96",
           "#ab63fa",
           "#FFA15A",
           "#19d3f3",
           "#FF6692",
           "#B6E880",
           "#FF97FF",
           "#FECB52"
          ],
          "font": {
           "color": "#2a3f5f"
          },
          "geo": {
           "bgcolor": "white",
           "lakecolor": "white",
           "landcolor": "#E5ECF6",
           "showlakes": true,
           "showland": true,
           "subunitcolor": "white"
          },
          "hoverlabel": {
           "align": "left"
          },
          "hovermode": "closest",
          "mapbox": {
           "style": "light"
          },
          "paper_bgcolor": "white",
          "plot_bgcolor": "#E5ECF6",
          "polar": {
           "angularaxis": {
            "gridcolor": "white",
            "linecolor": "white",
            "ticks": ""
           },
           "bgcolor": "#E5ECF6",
           "radialaxis": {
            "gridcolor": "white",
            "linecolor": "white",
            "ticks": ""
           }
          },
          "scene": {
           "xaxis": {
            "backgroundcolor": "#E5ECF6",
            "gridcolor": "white",
            "gridwidth": 2,
            "linecolor": "white",
            "showbackground": true,
            "ticks": "",
            "zerolinecolor": "white"
           },
           "yaxis": {
            "backgroundcolor": "#E5ECF6",
            "gridcolor": "white",
            "gridwidth": 2,
            "linecolor": "white",
            "showbackground": true,
            "ticks": "",
            "zerolinecolor": "white"
           },
           "zaxis": {
            "backgroundcolor": "#E5ECF6",
            "gridcolor": "white",
            "gridwidth": 2,
            "linecolor": "white",
            "showbackground": true,
            "ticks": "",
            "zerolinecolor": "white"
           }
          },
          "shapedefaults": {
           "line": {
            "color": "#2a3f5f"
           }
          },
          "ternary": {
           "aaxis": {
            "gridcolor": "white",
            "linecolor": "white",
            "ticks": ""
           },
           "baxis": {
            "gridcolor": "white",
            "linecolor": "white",
            "ticks": ""
           },
           "bgcolor": "#E5ECF6",
           "caxis": {
            "gridcolor": "white",
            "linecolor": "white",
            "ticks": ""
           }
          },
          "title": {
           "x": 0.05
          },
          "xaxis": {
           "automargin": true,
           "gridcolor": "white",
           "linecolor": "white",
           "ticks": "",
           "title": {
            "standoff": 15
           },
           "zerolinecolor": "white",
           "zerolinewidth": 2
          },
          "yaxis": {
           "automargin": true,
           "gridcolor": "white",
           "linecolor": "white",
           "ticks": "",
           "title": {
            "standoff": 15
           },
           "zerolinecolor": "white",
           "zerolinewidth": 2
          }
         }
        },
        "title": {
         "text": "Correlation lstat - medv"
        },
        "xaxis": {
         "anchor": "y",
         "domain": [
          0,
          1
         ],
         "title": {
          "text": "lstat"
         }
        },
        "yaxis": {
         "anchor": "x",
         "domain": [
          0,
          1
         ],
         "title": {
          "text": "medv"
         }
        }
       }
      },
      "text/html": [
       "<div>\n",
       "        \n",
       "        \n",
       "            <div id=\"2cd0b179-9070-47f9-9814-e9bf1401e521\" class=\"plotly-graph-div\" style=\"height:525px; width:100%;\"></div>\n",
       "            <script type=\"text/javascript\">\n",
       "                require([\"plotly\"], function(Plotly) {\n",
       "                    window.PLOTLYENV=window.PLOTLYENV || {};\n",
       "                    \n",
       "                if (document.getElementById(\"2cd0b179-9070-47f9-9814-e9bf1401e521\")) {\n",
       "                    Plotly.newPlot(\n",
       "                        '2cd0b179-9070-47f9-9814-e9bf1401e521',\n",
       "                        [{\"hoverlabel\": {\"namelength\": 0}, \"hovertemplate\": \"lstat=%{x}<br>medv=%{y}\", \"legendgroup\": \"\", \"marker\": {\"color\": \"#636efa\", \"symbol\": \"circle\"}, \"mode\": \"markers\", \"name\": \"\", \"showlegend\": false, \"type\": \"scatter\", \"x\": [9.88, 9.22, 9.97, 21.45, 9.43, 5.39, 6.56, 7.9, 19.69, 15.12, 26.64, 7.37, 11.98, 6.73, 26.45, 7.74, 11.22, 24.91, 14.1, 7.39, 24.08, 11.12, 10.27, 5.33, 8.65, 11.5, 16.59, 5.03, 6.57, 7.79, 4.38, 9.45, 10.4, 18.33, 6.87, 4.45, 8.05, 19.01, 4.85, 14.19, 27.8, 7.22, 10.29, 12.67, 16.2, 16.29, 15.02, 7.26, 23.27, 23.69, 23.6, 11.25, 3.11, 4.14, 7.01, 6.58, 10.88, 10.26, 21.78, 16.74, 29.05, 7.53, 8.16, 4.03, 9.5, 16.03, 14.59, 6.48, 7.43, 3.73, 13.0, 12.27, 6.47, 7.79, 8.2, 19.92, 7.14, 14.64, 11.28, 19.52, 11.45, 16.42, 14.13, 3.16, 9.14, 11.97, 7.44, 13.33, 8.51, 16.94, 22.6, 10.45, 17.12, 7.54, 12.8, 4.59, 23.98, 16.44, 4.84, 7.56, 3.53, 7.6, 24.16, 5.99, 5.49, 4.59, 5.21, 9.74, 6.62, 26.42, 12.33, 9.28, 7.2, 17.11, 12.64, 12.01, 16.51, 4.32, 29.29, 16.3, 29.55, 10.11, 8.93, 9.68, 11.34, 13.98, 11.1, 5.33, 17.27, 5.04, 21.46, 9.51, 14.1, 13.04, 24.56, 21.22, 13.27, 28.28, 23.97, 10.13, 12.03, 4.82, 5.29, 18.13, 14.66, 12.26, 10.74, 10.15, 5.28, 20.34, 3.13, 4.56, 26.82, 20.31, 5.49, 11.41, 13.83, 8.77, 13.27, 9.93, 30.63, 14.0, 17.1, 34.02, 11.64, 11.69, 16.35, 9.67, 9.69, 5.89, 23.34, 13.0, 23.24, 19.78, 17.73, 17.09, 15.71, 15.69, 14.15, 6.21, 7.67, 15.55, 9.64, 20.85, 12.79, 8.61, 17.58, 6.9, 15.79, 23.98, 6.27, 5.5, 9.1, 5.12, 12.4, 4.16, 26.4, 14.69, 9.71, 24.1, 13.11, 14.98, 25.68, 8.1, 8.43, 4.08, 5.08, 17.16, 17.93, 5.64, 19.31, 12.12, 10.87, 13.28, 29.68, 12.87, 23.29, 6.07, 15.02, 1.73, 9.04, 6.68, 11.38, 5.98, 25.41, 6.36, 11.74, 14.7, 20.45, 18.85, 6.05, 8.79, 12.92, 11.72, 11.32, 21.14, 7.19, 22.74, 6.75, 6.72, 6.12, 13.51, 8.05, 5.57, 6.29, 17.6, 15.84, 5.9, 13.61, 34.37, 7.51, 21.08, 30.81, 12.34, 9.5, 9.54, 10.21, 12.43, 13.09, 10.42, 6.43, 16.23, 10.53, 3.32, 15.17, 18.76, 14.27, 4.54, 15.7, 15.94, 3.92, 13.44, 20.32, 12.03, 9.55, 9.38, 6.19, 13.22, 17.28, 16.14, 12.5, 9.62, 14.43, 10.56, 21.32, 8.47, 17.27, 8.94, 12.04, 6.53, 18.06, 7.6, 2.47, 24.39, 18.46, 6.78, 8.67, 5.81, 16.9, 17.64, 2.94, 18.13, 18.03, 2.97, 18.66, 15.17, 3.76, 5.25, 3.54, 7.73, 4.67, 14.79, 19.88, 4.74, 19.37, 9.08, 7.7, 5.98, 16.47, 3.59, 13.35, 17.6, 18.71, 19.15, 5.19, 29.97, 3.33, 14.36, 10.36, 7.39, 10.5, 18.07, 13.15, 13.99, 5.29, 4.86, 9.53, 9.42, 7.79, 5.68, 18.46, 3.7, 8.1, 18.35, 18.05, 15.37, 4.61, 9.52, 8.05, 6.92, 5.68, 9.09, 29.93, 9.29, 21.32, 27.26, 4.98, 8.81, 13.65, 5.7, 28.32, 13.15, 11.66, 21.52, 9.97, 7.44, 26.77, 10.19, 30.62, 4.69, 2.96, 16.22, 30.81, 10.58, 21.24, 14.8, 3.95, 10.97, 6.58, 7.18, 6.72, 1.98, 8.58, 12.86, 14.37, 10.16, 14.81, 18.13, 3.16, 5.77, 6.36], \"xaxis\": \"x\", \"y\": [21.7, 19.6, 20.3, 15.4, 20.5, 34.9, 26.2, 21.6, 14.1, 17.0, 10.4, 23.3, 21.0, 22.2, 8.7, 23.7, 22.2, 12.0, 21.5, 23.3, 9.5, 23.0, 20.8, 29.4, 16.5, 16.2, 18.4, 31.1, 21.9, 18.6, 29.1, 36.2, 21.7, 17.8, 23.1, 50.0, 29.0, 12.7, 35.1, 19.9, 13.8, 23.9, 20.2, 22.6, 19.4, 19.9, 15.6, 43.1, 13.4, 13.1, 11.3, 31.0, 42.3, 44.8, 25.0, 35.2, 24.0, 18.2, 10.2, 17.8, 7.2, 28.2, 22.9, 34.7, 22.0, 22.4, 17.1, 22.0, 24.1, 50.0, 21.7, 19.8, 33.4, 25.0, 22.0, 8.5, 23.2, 16.8, 18.2, 17.1, 20.6, 16.4, 19.9, 43.5, 21.6, 20.0, 50.0, 23.1, 20.6, 13.5, 12.7, 18.5, 13.1, 23.4, 18.4, 35.4, 19.3, 12.6, 26.6, 39.8, 29.6, 30.1, 14.0, 24.5, 32.7, 41.3, 28.7, 19.0, 34.6, 15.6, 20.1, 23.8, 23.8, 15.1, 16.1, 21.8, 13.9, 30.8, 11.8, 15.6, 23.7, 23.2, 28.4, 18.9, 21.4, 26.4, 23.8, 36.2, 16.1, 37.2, 21.7, 24.8, 20.8, 14.5, 12.3, 17.2, 18.9, 10.5, 7.0, 24.7, 16.1, 37.9, 21.9, 19.1, 24.4, 19.6, 23.0, 20.5, 25.0, 13.5, 37.6, 29.8, 13.4, 12.1, 24.1, 20.0, 19.6, 21.0, 21.7, 27.5, 8.8, 21.9, 18.9, 8.4, 22.7, 20.2, 12.7, 22.4, 28.7, 26.6, 11.9, 21.1, 13.9, 27.5, 15.2, 18.7, 21.7, 10.2, 20.0, 25.0, 26.5, 19.4, 22.6, 11.5, 22.2, 30.3, 18.8, 30.1, 19.4, 11.8, 28.6, 27.0, 20.3, 50.0, 20.1, 33.1, 17.2, 23.1, 26.7, 13.3, 21.4, 19.1, 9.7, 36.5, 23.4, 33.3, 24.6, 11.7, 20.5, 23.9, 13.0, 15.3, 22.6, 19.6, 8.1, 19.6, 13.4, 24.8, 16.7, 50.0, 23.6, 32.0, 22.0, 22.9, 17.3, 23.1, 18.5, 20.0, 15.0, 15.4, 33.2, 20.9, 21.2, 19.4, 22.3, 19.7, 29.1, 8.4, 20.7, 24.8, 25.0, 23.3, 18.2, 20.6, 24.6, 17.8, 20.3, 24.4, 19.3, 17.9, 22.9, 10.9, 7.2, 21.2, 25.0, 25.1, 19.3, 22.9, 17.4, 21.8, 24.3, 14.9, 17.5, 50.0, 13.8, 23.2, 20.3, 22.8, 14.2, 19.8, 46.7, 15.0, 7.2, 19.1, 21.2, 28.1, 33.2, 21.4, 14.8, 13.1, 17.6, 23.9, 17.4, 18.5, 13.3, 19.9, 21.7, 21.4, 21.2, 26.6, 22.5, 22.3, 41.7, 8.3, 18.5, 24.1, 26.4, 25.3, 17.4, 14.5, 33.4, 14.1, 14.6, 50.0, 19.5, 11.7, 31.5, 31.7, 42.8, 24.4, 23.5, 30.7, 14.5, 29.0, 12.5, 20.6, 20.4, 22.1, 19.5, 24.8, 20.1, 23.1, 14.9, 27.1, 23.7, 6.3, 28.5, 23.2, 23.1, 27.1, 23.0, 13.6, 29.6, 19.5, 28.0, 33.1, 50.0, 27.5, 36.0, 32.5, 17.8, 50.0, 22.0, 13.1, 9.6, 20.4, 31.2, 24.5, 33.0, 29.9, 22.2, 19.8, 16.5, 18.7, 19.1, 15.7, 24.0, 22.6, 20.7, 28.7, 17.8, 18.7, 29.8, 11.0, 19.3, 24.7, 5.6, 20.8, 10.2, 30.5, 50.0, 14.3, 14.4, 21.2, 13.3, 18.9, 48.3, 24.4, 23.1, 23.9, 24.2, 34.9, 23.9, 22.5, 22.0, 22.8, 16.6, 14.1, 50.0, 24.7, 23.7], \"yaxis\": \"y\"}],\n",
       "                        {\"legend\": {\"tracegroupgap\": 0}, \"template\": {\"data\": {\"bar\": [{\"error_x\": {\"color\": \"#2a3f5f\"}, \"error_y\": {\"color\": \"#2a3f5f\"}, \"marker\": {\"line\": {\"color\": \"#E5ECF6\", \"width\": 0.5}}, \"type\": \"bar\"}], \"barpolar\": [{\"marker\": {\"line\": {\"color\": \"#E5ECF6\", \"width\": 0.5}}, \"type\": \"barpolar\"}], \"carpet\": [{\"aaxis\": {\"endlinecolor\": \"#2a3f5f\", \"gridcolor\": \"white\", \"linecolor\": \"white\", \"minorgridcolor\": \"white\", \"startlinecolor\": \"#2a3f5f\"}, \"baxis\": {\"endlinecolor\": \"#2a3f5f\", \"gridcolor\": \"white\", \"linecolor\": \"white\", \"minorgridcolor\": \"white\", \"startlinecolor\": \"#2a3f5f\"}, \"type\": \"carpet\"}], \"choropleth\": [{\"colorbar\": {\"outlinewidth\": 0, \"ticks\": \"\"}, \"type\": \"choropleth\"}], \"contour\": [{\"colorbar\": {\"outlinewidth\": 0, \"ticks\": \"\"}, \"colorscale\": [[0.0, \"#0d0887\"], [0.1111111111111111, \"#46039f\"], [0.2222222222222222, \"#7201a8\"], [0.3333333333333333, \"#9c179e\"], [0.4444444444444444, \"#bd3786\"], [0.5555555555555556, \"#d8576b\"], [0.6666666666666666, \"#ed7953\"], [0.7777777777777778, \"#fb9f3a\"], [0.8888888888888888, \"#fdca26\"], [1.0, \"#f0f921\"]], \"type\": \"contour\"}], \"contourcarpet\": [{\"colorbar\": {\"outlinewidth\": 0, \"ticks\": \"\"}, \"type\": \"contourcarpet\"}], \"heatmap\": [{\"colorbar\": {\"outlinewidth\": 0, \"ticks\": \"\"}, \"colorscale\": [[0.0, \"#0d0887\"], [0.1111111111111111, \"#46039f\"], [0.2222222222222222, \"#7201a8\"], [0.3333333333333333, \"#9c179e\"], [0.4444444444444444, \"#bd3786\"], [0.5555555555555556, \"#d8576b\"], [0.6666666666666666, \"#ed7953\"], [0.7777777777777778, \"#fb9f3a\"], [0.8888888888888888, \"#fdca26\"], [1.0, \"#f0f921\"]], \"type\": \"heatmap\"}], \"heatmapgl\": [{\"colorbar\": {\"outlinewidth\": 0, \"ticks\": \"\"}, \"colorscale\": [[0.0, \"#0d0887\"], [0.1111111111111111, \"#46039f\"], [0.2222222222222222, \"#7201a8\"], [0.3333333333333333, \"#9c179e\"], [0.4444444444444444, \"#bd3786\"], [0.5555555555555556, \"#d8576b\"], [0.6666666666666666, \"#ed7953\"], [0.7777777777777778, \"#fb9f3a\"], [0.8888888888888888, \"#fdca26\"], [1.0, \"#f0f921\"]], \"type\": \"heatmapgl\"}], \"histogram\": [{\"marker\": {\"colorbar\": {\"outlinewidth\": 0, \"ticks\": \"\"}}, \"type\": \"histogram\"}], \"histogram2d\": [{\"colorbar\": {\"outlinewidth\": 0, \"ticks\": \"\"}, \"colorscale\": [[0.0, \"#0d0887\"], [0.1111111111111111, \"#46039f\"], [0.2222222222222222, \"#7201a8\"], [0.3333333333333333, \"#9c179e\"], [0.4444444444444444, \"#bd3786\"], [0.5555555555555556, \"#d8576b\"], [0.6666666666666666, \"#ed7953\"], [0.7777777777777778, \"#fb9f3a\"], [0.8888888888888888, \"#fdca26\"], [1.0, \"#f0f921\"]], \"type\": \"histogram2d\"}], \"histogram2dcontour\": [{\"colorbar\": {\"outlinewidth\": 0, \"ticks\": \"\"}, \"colorscale\": [[0.0, \"#0d0887\"], [0.1111111111111111, \"#46039f\"], [0.2222222222222222, \"#7201a8\"], [0.3333333333333333, \"#9c179e\"], [0.4444444444444444, \"#bd3786\"], [0.5555555555555556, \"#d8576b\"], [0.6666666666666666, \"#ed7953\"], [0.7777777777777778, \"#fb9f3a\"], [0.8888888888888888, \"#fdca26\"], [1.0, \"#f0f921\"]], \"type\": \"histogram2dcontour\"}], \"mesh3d\": [{\"colorbar\": {\"outlinewidth\": 0, \"ticks\": \"\"}, \"type\": \"mesh3d\"}], \"parcoords\": [{\"line\": {\"colorbar\": {\"outlinewidth\": 0, \"ticks\": \"\"}}, \"type\": \"parcoords\"}], \"pie\": [{\"automargin\": true, \"type\": \"pie\"}], \"scatter\": [{\"marker\": {\"colorbar\": {\"outlinewidth\": 0, \"ticks\": \"\"}}, \"type\": \"scatter\"}], \"scatter3d\": [{\"line\": {\"colorbar\": {\"outlinewidth\": 0, \"ticks\": \"\"}}, \"marker\": {\"colorbar\": {\"outlinewidth\": 0, \"ticks\": \"\"}}, \"type\": \"scatter3d\"}], \"scattercarpet\": [{\"marker\": {\"colorbar\": {\"outlinewidth\": 0, \"ticks\": \"\"}}, \"type\": \"scattercarpet\"}], \"scattergeo\": [{\"marker\": {\"colorbar\": {\"outlinewidth\": 0, \"ticks\": \"\"}}, \"type\": \"scattergeo\"}], \"scattergl\": [{\"marker\": {\"colorbar\": {\"outlinewidth\": 0, \"ticks\": \"\"}}, \"type\": \"scattergl\"}], \"scattermapbox\": [{\"marker\": {\"colorbar\": {\"outlinewidth\": 0, \"ticks\": \"\"}}, \"type\": \"scattermapbox\"}], \"scatterpolar\": [{\"marker\": {\"colorbar\": {\"outlinewidth\": 0, \"ticks\": \"\"}}, \"type\": \"scatterpolar\"}], \"scatterpolargl\": [{\"marker\": {\"colorbar\": {\"outlinewidth\": 0, \"ticks\": \"\"}}, \"type\": \"scatterpolargl\"}], \"scatterternary\": [{\"marker\": {\"colorbar\": {\"outlinewidth\": 0, \"ticks\": \"\"}}, \"type\": \"scatterternary\"}], \"surface\": [{\"colorbar\": {\"outlinewidth\": 0, \"ticks\": \"\"}, \"colorscale\": [[0.0, \"#0d0887\"], [0.1111111111111111, \"#46039f\"], [0.2222222222222222, \"#7201a8\"], [0.3333333333333333, \"#9c179e\"], [0.4444444444444444, \"#bd3786\"], [0.5555555555555556, \"#d8576b\"], [0.6666666666666666, \"#ed7953\"], [0.7777777777777778, \"#fb9f3a\"], [0.8888888888888888, \"#fdca26\"], [1.0, \"#f0f921\"]], \"type\": \"surface\"}], \"table\": [{\"cells\": {\"fill\": {\"color\": \"#EBF0F8\"}, \"line\": {\"color\": \"white\"}}, \"header\": {\"fill\": {\"color\": \"#C8D4E3\"}, \"line\": {\"color\": \"white\"}}, \"type\": \"table\"}]}, \"layout\": {\"annotationdefaults\": {\"arrowcolor\": \"#2a3f5f\", \"arrowhead\": 0, \"arrowwidth\": 1}, \"coloraxis\": {\"colorbar\": {\"outlinewidth\": 0, \"ticks\": \"\"}}, \"colorscale\": {\"diverging\": [[0, \"#8e0152\"], [0.1, \"#c51b7d\"], [0.2, \"#de77ae\"], [0.3, \"#f1b6da\"], [0.4, \"#fde0ef\"], [0.5, \"#f7f7f7\"], [0.6, \"#e6f5d0\"], [0.7, \"#b8e186\"], [0.8, \"#7fbc41\"], [0.9, \"#4d9221\"], [1, \"#276419\"]], \"sequential\": [[0.0, \"#0d0887\"], [0.1111111111111111, \"#46039f\"], [0.2222222222222222, \"#7201a8\"], [0.3333333333333333, \"#9c179e\"], [0.4444444444444444, \"#bd3786\"], [0.5555555555555556, \"#d8576b\"], [0.6666666666666666, \"#ed7953\"], [0.7777777777777778, \"#fb9f3a\"], [0.8888888888888888, \"#fdca26\"], [1.0, \"#f0f921\"]], \"sequentialminus\": [[0.0, \"#0d0887\"], [0.1111111111111111, \"#46039f\"], [0.2222222222222222, \"#7201a8\"], [0.3333333333333333, \"#9c179e\"], [0.4444444444444444, \"#bd3786\"], [0.5555555555555556, \"#d8576b\"], [0.6666666666666666, \"#ed7953\"], [0.7777777777777778, \"#fb9f3a\"], [0.8888888888888888, \"#fdca26\"], [1.0, \"#f0f921\"]]}, \"colorway\": [\"#636efa\", \"#EF553B\", \"#00cc96\", \"#ab63fa\", \"#FFA15A\", \"#19d3f3\", \"#FF6692\", \"#B6E880\", \"#FF97FF\", \"#FECB52\"], \"font\": {\"color\": \"#2a3f5f\"}, \"geo\": {\"bgcolor\": \"white\", \"lakecolor\": \"white\", \"landcolor\": \"#E5ECF6\", \"showlakes\": true, \"showland\": true, \"subunitcolor\": \"white\"}, \"hoverlabel\": {\"align\": \"left\"}, \"hovermode\": \"closest\", \"mapbox\": {\"style\": \"light\"}, \"paper_bgcolor\": \"white\", \"plot_bgcolor\": \"#E5ECF6\", \"polar\": {\"angularaxis\": {\"gridcolor\": \"white\", \"linecolor\": \"white\", \"ticks\": \"\"}, \"bgcolor\": \"#E5ECF6\", \"radialaxis\": {\"gridcolor\": \"white\", \"linecolor\": \"white\", \"ticks\": \"\"}}, \"scene\": {\"xaxis\": {\"backgroundcolor\": \"#E5ECF6\", \"gridcolor\": \"white\", \"gridwidth\": 2, \"linecolor\": \"white\", \"showbackground\": true, \"ticks\": \"\", \"zerolinecolor\": \"white\"}, \"yaxis\": {\"backgroundcolor\": \"#E5ECF6\", \"gridcolor\": \"white\", \"gridwidth\": 2, \"linecolor\": \"white\", \"showbackground\": true, \"ticks\": \"\", \"zerolinecolor\": \"white\"}, \"zaxis\": {\"backgroundcolor\": \"#E5ECF6\", \"gridcolor\": \"white\", \"gridwidth\": 2, \"linecolor\": \"white\", \"showbackground\": true, \"ticks\": \"\", \"zerolinecolor\": \"white\"}}, \"shapedefaults\": {\"line\": {\"color\": \"#2a3f5f\"}}, \"ternary\": {\"aaxis\": {\"gridcolor\": \"white\", \"linecolor\": \"white\", \"ticks\": \"\"}, \"baxis\": {\"gridcolor\": \"white\", \"linecolor\": \"white\", \"ticks\": \"\"}, \"bgcolor\": \"#E5ECF6\", \"caxis\": {\"gridcolor\": \"white\", \"linecolor\": \"white\", \"ticks\": \"\"}}, \"title\": {\"x\": 0.05}, \"xaxis\": {\"automargin\": true, \"gridcolor\": \"white\", \"linecolor\": \"white\", \"ticks\": \"\", \"title\": {\"standoff\": 15}, \"zerolinecolor\": \"white\", \"zerolinewidth\": 2}, \"yaxis\": {\"automargin\": true, \"gridcolor\": \"white\", \"linecolor\": \"white\", \"ticks\": \"\", \"title\": {\"standoff\": 15}, \"zerolinecolor\": \"white\", \"zerolinewidth\": 2}}}, \"title\": {\"text\": \"Correlation lstat - medv\"}, \"xaxis\": {\"anchor\": \"y\", \"domain\": [0.0, 1.0], \"title\": {\"text\": \"lstat\"}}, \"yaxis\": {\"anchor\": \"x\", \"domain\": [0.0, 1.0], \"title\": {\"text\": \"medv\"}}},\n",
       "                        {\"responsive\": true}\n",
       "                    ).then(function(){\n",
       "                            \n",
       "var gd = document.getElementById('2cd0b179-9070-47f9-9814-e9bf1401e521');\n",
       "var x = new MutationObserver(function (mutations, observer) {{\n",
       "        var display = window.getComputedStyle(gd).display;\n",
       "        if (!display || display === 'none') {{\n",
       "            console.log([gd, 'removed!']);\n",
       "            Plotly.purge(gd);\n",
       "            observer.disconnect();\n",
       "        }}\n",
       "}});\n",
       "\n",
       "// Listen for the removal of the full notebook cells\n",
       "var notebookContainer = gd.closest('#notebook-container');\n",
       "if (notebookContainer) {{\n",
       "    x.observe(notebookContainer, {childList: true});\n",
       "}}\n",
       "\n",
       "// Listen for the clearing of the current output cell\n",
       "var outputEl = gd.closest('.output');\n",
       "if (outputEl) {{\n",
       "    x.observe(outputEl, {childList: true});\n",
       "}}\n",
       "\n",
       "                        })\n",
       "                };\n",
       "                });\n",
       "            </script>\n",
       "        </div>"
      ]
     },
     "metadata": {},
     "output_type": "display_data"
    }
   ],
   "source": [
    "px.scatter(data, x='lstat', y='medv', title='Correlation lstat - medv')"
   ]
  },
  {
   "cell_type": "code",
   "execution_count": 103,
   "metadata": {},
   "outputs": [
    {
     "data": {
      "application/vnd.plotly.v1+json": {
       "config": {
        "plotlyServerURL": "https://plot.ly"
       },
       "data": [
        {
         "hoverlabel": {
          "namelength": 0
         },
         "hovertemplate": "rm=%{x}<br>medv=%{y}",
         "legendgroup": "",
         "marker": {
          "color": "#636efa",
          "symbol": "circle"
         },
         "mode": "markers",
         "name": "",
         "showlegend": false,
         "type": "scatter",
         "x": [
          5.961,
          5.9270000000000005,
          5.972,
          5.597,
          6.115,
          7.185,
          6.718,
          6.266,
          6.832999999999999,
          6.129,
          5.303999999999999,
          6.606,
          6.6739999999999995,
          6.456,
          6.152,
          6.75,
          6.358,
          5.303999999999999,
          6.122000000000001,
          6.51,
          6.38,
          6.372000000000001,
          6.14,
          6.546,
          6.54,
          5.705,
          6.218999999999999,
          6.8,
          6.108,
          5.8839999999999995,
          6.604,
          6.144,
          6.0089999999999995,
          5.914,
          6.376,
          7.831,
          6.726,
          5.976,
          6.812,
          6.251,
          6.13,
          6.619,
          6.513,
          6.112,
          5.602,
          6.167000000000001,
          6.152,
          7.52,
          6.629,
          6.38,
          5.5360000000000005,
          7.327000000000001,
          7.61,
          8.266,
          7.061,
          7.691,
          6.086,
          6.096,
          6.223,
          7.393,
          6.434,
          6.849,
          6.442,
          7.185,
          6.59,
          5.807,
          6.454,
          6.794,
          6.162000000000001,
          6.683,
          6.195,
          6.474,
          7.42,
          6.398,
          6.405,
          5.747000000000001,
          6.209,
          5.803,
          5.727,
          6.406000000000001,
          5.905,
          6.7010000000000005,
          5.7589999999999995,
          7.47,
          6.421,
          6.279,
          8.297,
          3.863,
          6.059,
          5.936,
          5.712999999999999,
          6.254,
          6.471,
          6.245,
          6.495,
          6.968,
          5.404,
          6.251,
          6.77,
          7.765,
          6.957000000000001,
          6.617999999999999,
          6.1739999999999995,
          6.635,
          7.2410000000000005,
          6.943,
          6.43,
          5.985,
          7.274,
          5.468,
          6.167000000000001,
          6.567,
          6.426,
          5.712999999999999,
          4.973,
          5.707000000000001,
          5.599,
          6.595,
          4.9030000000000005,
          5.9239999999999995,
          5.412000000000001,
          6.02,
          6.6160000000000005,
          5.933,
          6.162999999999999,
          5.604,
          6.319,
          7.147,
          6.297000000000001,
          6.98,
          6.164,
          6.565,
          5.648,
          6.072,
          5.52,
          6.657,
          6.0089999999999995,
          4.652,
          5.414,
          5.966,
          6.425,
          7.155,
          8.78,
          5.926,
          6.064,
          6.3260000000000005,
          6.242000000000001,
          6.226,
          6.511,
          6.096,
          8.04,
          6.556,
          5.403,
          6.404,
          6.579,
          5.841,
          5.965,
          5.85,
          6.395,
          6.879,
          4.368,
          4.963,
          6.004,
          5.935,
          5.854,
          5.456,
          5.8870000000000005,
          6.593,
          6.642,
          6.939,
          4.138,
          5.856,
          6.649,
          6.852,
          6.655,
          6.0920000000000005,
          5.888999999999999,
          5.837000000000001,
          5.7860000000000005,
          6.211,
          6.781000000000001,
          6.229,
          5.859,
          5.39,
          6.082999999999999,
          7.107,
          5.879,
          6.8420000000000005,
          5.709,
          6.459,
          6.678,
          6.25,
          5.874,
          8.704,
          6.095,
          6.8260000000000005,
          5.617000000000001,
          5.572,
          6.9510000000000005,
          6.162000000000001,
          6.229,
          6.114,
          5.0360000000000005,
          7.206,
          5.997999999999999,
          7.287000000000001,
          6.431,
          5.565,
          5.961,
          6.976,
          6.417000000000001,
          5.012,
          5.891,
          5.404,
          5.093,
          6.229,
          6.103,
          6.871,
          6.4110000000000005,
          7.489,
          6.416,
          6.782,
          6.897,
          6.49,
          5.856,
          6.516,
          5.707999999999999,
          6.081,
          6.377000000000001,
          6.485,
          7.267,
          5.885,
          6.019,
          6.023,
          6.402,
          5.39,
          6.482,
          6.824,
          6.31,
          6.3020000000000005,
          6.415,
          5.888,
          5.662999999999999,
          5.936,
          6.315,
          6.212000000000001,
          5.79,
          6.487,
          5.731,
          4.628,
          6.167000000000001,
          6.545,
          5.277,
          6.232,
          6.7620000000000005,
          6.631,
          5.682,
          6.0120000000000005,
          5.593999999999999,
          5.7620000000000005,
          6.066,
          6.301,
          6.013999999999999,
          8.375,
          6.193,
          6.051,
          6.004,
          6.635,
          6.006,
          5.782,
          7.686,
          7.313,
          6.343,
          5.88,
          6.069,
          6.375,
          7.416,
          6.209,
          6.047000000000001,
          5.272,
          5.593,
          6.388999999999999,
          5.875,
          5.895,
          5.857,
          5.834,
          5.96,
          6.2860000000000005,
          6.176,
          6.63,
          5.7829999999999995,
          6.315,
          8.337,
          5.896,
          5.605,
          6.273,
          6.495,
          6.169,
          5.942,
          6.348,
          6.997999999999999,
          6.525,
          6.185,
          7.875,
          5.836,
          6.207999999999999,
          6.5520000000000005,
          7.412000000000001,
          8.259,
          6.537999999999999,
          6.29,
          7.013999999999999,
          5.813,
          7.041,
          6.405,
          6.12,
          6.041,
          6.122000000000001,
          5.851,
          6.438,
          5.983,
          5.67,
          6.728,
          6.172000000000001,
          6.393,
          5.852,
          6.861000000000001,
          6.437,
          6.382000000000001,
          6.5489999999999995,
          6.372999999999999,
          5.983,
          6.153,
          6.317,
          6.727,
          6.982,
          6.216,
          6.727,
          7.332999999999999,
          6.563,
          6.151,
          7.928999999999999,
          5.877999999999999,
          5.7010000000000005,
          6.461,
          5.872000000000001,
          6.874,
          6.433,
          7.104,
          6.86,
          6.316,
          6.144,
          5.631,
          5.968,
          6.002999999999999,
          5.6129999999999995,
          6.575,
          6.417000000000001,
          5.92,
          7.079,
          5.186,
          5.7410000000000005,
          6.98,
          6.193,
          5.867999999999999,
          6.211,
          5.987,
          5.362,
          4.88,
          6.739,
          7.016,
          6.436,
          5.399,
          6.312,
          6.794,
          5.888,
          8.247,
          6.3260000000000005,
          5.935,
          6.696000000000001,
          6.417000000000001,
          7.024,
          6.127000000000001,
          6.015,
          5.87,
          6.715,
          5.813,
          6.185,
          7.922999999999999,
          6.382999999999999,
          6.481
         ],
         "xaxis": "x",
         "y": [
          21.7,
          19.6,
          20.3,
          15.4,
          20.5,
          34.9,
          26.2,
          21.6,
          14.1,
          17,
          10.4,
          23.3,
          21,
          22.2,
          8.7,
          23.7,
          22.2,
          12,
          21.5,
          23.3,
          9.5,
          23,
          20.8,
          29.4,
          16.5,
          16.2,
          18.4,
          31.1,
          21.9,
          18.6,
          29.1,
          36.2,
          21.7,
          17.8,
          23.1,
          50,
          29,
          12.7,
          35.1,
          19.9,
          13.8,
          23.9,
          20.2,
          22.6,
          19.4,
          19.9,
          15.6,
          43.1,
          13.4,
          13.1,
          11.3,
          31,
          42.3,
          44.8,
          25,
          35.2,
          24,
          18.2,
          10.2,
          17.8,
          7.2,
          28.2,
          22.9,
          34.7,
          22,
          22.4,
          17.1,
          22,
          24.1,
          50,
          21.7,
          19.8,
          33.4,
          25,
          22,
          8.5,
          23.2,
          16.8,
          18.2,
          17.1,
          20.6,
          16.4,
          19.9,
          43.5,
          21.6,
          20,
          50,
          23.1,
          20.6,
          13.5,
          12.7,
          18.5,
          13.1,
          23.4,
          18.4,
          35.4,
          19.3,
          12.6,
          26.6,
          39.8,
          29.6,
          30.1,
          14,
          24.5,
          32.7,
          41.3,
          28.7,
          19,
          34.6,
          15.6,
          20.1,
          23.8,
          23.8,
          15.1,
          16.1,
          21.8,
          13.9,
          30.8,
          11.8,
          15.6,
          23.7,
          23.2,
          28.4,
          18.9,
          21.4,
          26.4,
          23.8,
          36.2,
          16.1,
          37.2,
          21.7,
          24.8,
          20.8,
          14.5,
          12.3,
          17.2,
          18.9,
          10.5,
          7,
          24.7,
          16.1,
          37.9,
          21.9,
          19.1,
          24.4,
          19.6,
          23,
          20.5,
          25,
          13.5,
          37.6,
          29.8,
          13.4,
          12.1,
          24.1,
          20,
          19.6,
          21,
          21.7,
          27.5,
          8.8,
          21.9,
          18.9,
          8.4,
          22.7,
          20.2,
          12.7,
          22.4,
          28.7,
          26.6,
          11.9,
          21.1,
          13.9,
          27.5,
          15.2,
          18.7,
          21.7,
          10.2,
          20,
          25,
          26.5,
          19.4,
          22.6,
          11.5,
          22.2,
          30.3,
          18.8,
          30.1,
          19.4,
          11.8,
          28.6,
          27,
          20.3,
          50,
          20.1,
          33.1,
          17.2,
          23.1,
          26.7,
          13.3,
          21.4,
          19.1,
          9.7,
          36.5,
          23.4,
          33.3,
          24.6,
          11.7,
          20.5,
          23.9,
          13,
          15.3,
          22.6,
          19.6,
          8.1,
          19.6,
          13.4,
          24.8,
          16.7,
          50,
          23.6,
          32,
          22,
          22.9,
          17.3,
          23.1,
          18.5,
          20,
          15,
          15.4,
          33.2,
          20.9,
          21.2,
          19.4,
          22.3,
          19.7,
          29.1,
          8.4,
          20.7,
          24.8,
          25,
          23.3,
          18.2,
          20.6,
          24.6,
          17.8,
          20.3,
          24.4,
          19.3,
          17.9,
          22.9,
          10.9,
          7.2,
          21.2,
          25,
          25.1,
          19.3,
          22.9,
          17.4,
          21.8,
          24.3,
          14.9,
          17.5,
          50,
          13.8,
          23.2,
          20.3,
          22.8,
          14.2,
          19.8,
          46.7,
          15,
          7.2,
          19.1,
          21.2,
          28.1,
          33.2,
          21.4,
          14.8,
          13.1,
          17.6,
          23.9,
          17.4,
          18.5,
          13.3,
          19.9,
          21.7,
          21.4,
          21.2,
          26.6,
          22.5,
          22.3,
          41.7,
          8.3,
          18.5,
          24.1,
          26.4,
          25.3,
          17.4,
          14.5,
          33.4,
          14.1,
          14.6,
          50,
          19.5,
          11.7,
          31.5,
          31.7,
          42.8,
          24.4,
          23.5,
          30.7,
          14.5,
          29,
          12.5,
          20.6,
          20.4,
          22.1,
          19.5,
          24.8,
          20.1,
          23.1,
          14.9,
          27.1,
          23.7,
          6.3,
          28.5,
          23.2,
          23.1,
          27.1,
          23,
          13.6,
          29.6,
          19.5,
          28,
          33.1,
          50,
          27.5,
          36,
          32.5,
          17.8,
          50,
          22,
          13.1,
          9.6,
          20.4,
          31.2,
          24.5,
          33,
          29.9,
          22.2,
          19.8,
          16.5,
          18.7,
          19.1,
          15.7,
          24,
          22.6,
          20.7,
          28.7,
          17.8,
          18.7,
          29.8,
          11,
          19.3,
          24.7,
          5.6,
          20.8,
          10.2,
          30.5,
          50,
          14.3,
          14.4,
          21.2,
          13.3,
          18.9,
          48.3,
          24.4,
          23.1,
          23.9,
          24.2,
          34.9,
          23.9,
          22.5,
          22,
          22.8,
          16.6,
          14.1,
          50,
          24.7,
          23.7
         ],
         "yaxis": "y"
        }
       ],
       "layout": {
        "legend": {
         "tracegroupgap": 0
        },
        "template": {
         "data": {
          "bar": [
           {
            "error_x": {
             "color": "#2a3f5f"
            },
            "error_y": {
             "color": "#2a3f5f"
            },
            "marker": {
             "line": {
              "color": "#E5ECF6",
              "width": 0.5
             }
            },
            "type": "bar"
           }
          ],
          "barpolar": [
           {
            "marker": {
             "line": {
              "color": "#E5ECF6",
              "width": 0.5
             }
            },
            "type": "barpolar"
           }
          ],
          "carpet": [
           {
            "aaxis": {
             "endlinecolor": "#2a3f5f",
             "gridcolor": "white",
             "linecolor": "white",
             "minorgridcolor": "white",
             "startlinecolor": "#2a3f5f"
            },
            "baxis": {
             "endlinecolor": "#2a3f5f",
             "gridcolor": "white",
             "linecolor": "white",
             "minorgridcolor": "white",
             "startlinecolor": "#2a3f5f"
            },
            "type": "carpet"
           }
          ],
          "choropleth": [
           {
            "colorbar": {
             "outlinewidth": 0,
             "ticks": ""
            },
            "type": "choropleth"
           }
          ],
          "contour": [
           {
            "colorbar": {
             "outlinewidth": 0,
             "ticks": ""
            },
            "colorscale": [
             [
              0,
              "#0d0887"
             ],
             [
              0.1111111111111111,
              "#46039f"
             ],
             [
              0.2222222222222222,
              "#7201a8"
             ],
             [
              0.3333333333333333,
              "#9c179e"
             ],
             [
              0.4444444444444444,
              "#bd3786"
             ],
             [
              0.5555555555555556,
              "#d8576b"
             ],
             [
              0.6666666666666666,
              "#ed7953"
             ],
             [
              0.7777777777777778,
              "#fb9f3a"
             ],
             [
              0.8888888888888888,
              "#fdca26"
             ],
             [
              1,
              "#f0f921"
             ]
            ],
            "type": "contour"
           }
          ],
          "contourcarpet": [
           {
            "colorbar": {
             "outlinewidth": 0,
             "ticks": ""
            },
            "type": "contourcarpet"
           }
          ],
          "heatmap": [
           {
            "colorbar": {
             "outlinewidth": 0,
             "ticks": ""
            },
            "colorscale": [
             [
              0,
              "#0d0887"
             ],
             [
              0.1111111111111111,
              "#46039f"
             ],
             [
              0.2222222222222222,
              "#7201a8"
             ],
             [
              0.3333333333333333,
              "#9c179e"
             ],
             [
              0.4444444444444444,
              "#bd3786"
             ],
             [
              0.5555555555555556,
              "#d8576b"
             ],
             [
              0.6666666666666666,
              "#ed7953"
             ],
             [
              0.7777777777777778,
              "#fb9f3a"
             ],
             [
              0.8888888888888888,
              "#fdca26"
             ],
             [
              1,
              "#f0f921"
             ]
            ],
            "type": "heatmap"
           }
          ],
          "heatmapgl": [
           {
            "colorbar": {
             "outlinewidth": 0,
             "ticks": ""
            },
            "colorscale": [
             [
              0,
              "#0d0887"
             ],
             [
              0.1111111111111111,
              "#46039f"
             ],
             [
              0.2222222222222222,
              "#7201a8"
             ],
             [
              0.3333333333333333,
              "#9c179e"
             ],
             [
              0.4444444444444444,
              "#bd3786"
             ],
             [
              0.5555555555555556,
              "#d8576b"
             ],
             [
              0.6666666666666666,
              "#ed7953"
             ],
             [
              0.7777777777777778,
              "#fb9f3a"
             ],
             [
              0.8888888888888888,
              "#fdca26"
             ],
             [
              1,
              "#f0f921"
             ]
            ],
            "type": "heatmapgl"
           }
          ],
          "histogram": [
           {
            "marker": {
             "colorbar": {
              "outlinewidth": 0,
              "ticks": ""
             }
            },
            "type": "histogram"
           }
          ],
          "histogram2d": [
           {
            "colorbar": {
             "outlinewidth": 0,
             "ticks": ""
            },
            "colorscale": [
             [
              0,
              "#0d0887"
             ],
             [
              0.1111111111111111,
              "#46039f"
             ],
             [
              0.2222222222222222,
              "#7201a8"
             ],
             [
              0.3333333333333333,
              "#9c179e"
             ],
             [
              0.4444444444444444,
              "#bd3786"
             ],
             [
              0.5555555555555556,
              "#d8576b"
             ],
             [
              0.6666666666666666,
              "#ed7953"
             ],
             [
              0.7777777777777778,
              "#fb9f3a"
             ],
             [
              0.8888888888888888,
              "#fdca26"
             ],
             [
              1,
              "#f0f921"
             ]
            ],
            "type": "histogram2d"
           }
          ],
          "histogram2dcontour": [
           {
            "colorbar": {
             "outlinewidth": 0,
             "ticks": ""
            },
            "colorscale": [
             [
              0,
              "#0d0887"
             ],
             [
              0.1111111111111111,
              "#46039f"
             ],
             [
              0.2222222222222222,
              "#7201a8"
             ],
             [
              0.3333333333333333,
              "#9c179e"
             ],
             [
              0.4444444444444444,
              "#bd3786"
             ],
             [
              0.5555555555555556,
              "#d8576b"
             ],
             [
              0.6666666666666666,
              "#ed7953"
             ],
             [
              0.7777777777777778,
              "#fb9f3a"
             ],
             [
              0.8888888888888888,
              "#fdca26"
             ],
             [
              1,
              "#f0f921"
             ]
            ],
            "type": "histogram2dcontour"
           }
          ],
          "mesh3d": [
           {
            "colorbar": {
             "outlinewidth": 0,
             "ticks": ""
            },
            "type": "mesh3d"
           }
          ],
          "parcoords": [
           {
            "line": {
             "colorbar": {
              "outlinewidth": 0,
              "ticks": ""
             }
            },
            "type": "parcoords"
           }
          ],
          "pie": [
           {
            "automargin": true,
            "type": "pie"
           }
          ],
          "scatter": [
           {
            "marker": {
             "colorbar": {
              "outlinewidth": 0,
              "ticks": ""
             }
            },
            "type": "scatter"
           }
          ],
          "scatter3d": [
           {
            "line": {
             "colorbar": {
              "outlinewidth": 0,
              "ticks": ""
             }
            },
            "marker": {
             "colorbar": {
              "outlinewidth": 0,
              "ticks": ""
             }
            },
            "type": "scatter3d"
           }
          ],
          "scattercarpet": [
           {
            "marker": {
             "colorbar": {
              "outlinewidth": 0,
              "ticks": ""
             }
            },
            "type": "scattercarpet"
           }
          ],
          "scattergeo": [
           {
            "marker": {
             "colorbar": {
              "outlinewidth": 0,
              "ticks": ""
             }
            },
            "type": "scattergeo"
           }
          ],
          "scattergl": [
           {
            "marker": {
             "colorbar": {
              "outlinewidth": 0,
              "ticks": ""
             }
            },
            "type": "scattergl"
           }
          ],
          "scattermapbox": [
           {
            "marker": {
             "colorbar": {
              "outlinewidth": 0,
              "ticks": ""
             }
            },
            "type": "scattermapbox"
           }
          ],
          "scatterpolar": [
           {
            "marker": {
             "colorbar": {
              "outlinewidth": 0,
              "ticks": ""
             }
            },
            "type": "scatterpolar"
           }
          ],
          "scatterpolargl": [
           {
            "marker": {
             "colorbar": {
              "outlinewidth": 0,
              "ticks": ""
             }
            },
            "type": "scatterpolargl"
           }
          ],
          "scatterternary": [
           {
            "marker": {
             "colorbar": {
              "outlinewidth": 0,
              "ticks": ""
             }
            },
            "type": "scatterternary"
           }
          ],
          "surface": [
           {
            "colorbar": {
             "outlinewidth": 0,
             "ticks": ""
            },
            "colorscale": [
             [
              0,
              "#0d0887"
             ],
             [
              0.1111111111111111,
              "#46039f"
             ],
             [
              0.2222222222222222,
              "#7201a8"
             ],
             [
              0.3333333333333333,
              "#9c179e"
             ],
             [
              0.4444444444444444,
              "#bd3786"
             ],
             [
              0.5555555555555556,
              "#d8576b"
             ],
             [
              0.6666666666666666,
              "#ed7953"
             ],
             [
              0.7777777777777778,
              "#fb9f3a"
             ],
             [
              0.8888888888888888,
              "#fdca26"
             ],
             [
              1,
              "#f0f921"
             ]
            ],
            "type": "surface"
           }
          ],
          "table": [
           {
            "cells": {
             "fill": {
              "color": "#EBF0F8"
             },
             "line": {
              "color": "white"
             }
            },
            "header": {
             "fill": {
              "color": "#C8D4E3"
             },
             "line": {
              "color": "white"
             }
            },
            "type": "table"
           }
          ]
         },
         "layout": {
          "annotationdefaults": {
           "arrowcolor": "#2a3f5f",
           "arrowhead": 0,
           "arrowwidth": 1
          },
          "coloraxis": {
           "colorbar": {
            "outlinewidth": 0,
            "ticks": ""
           }
          },
          "colorscale": {
           "diverging": [
            [
             0,
             "#8e0152"
            ],
            [
             0.1,
             "#c51b7d"
            ],
            [
             0.2,
             "#de77ae"
            ],
            [
             0.3,
             "#f1b6da"
            ],
            [
             0.4,
             "#fde0ef"
            ],
            [
             0.5,
             "#f7f7f7"
            ],
            [
             0.6,
             "#e6f5d0"
            ],
            [
             0.7,
             "#b8e186"
            ],
            [
             0.8,
             "#7fbc41"
            ],
            [
             0.9,
             "#4d9221"
            ],
            [
             1,
             "#276419"
            ]
           ],
           "sequential": [
            [
             0,
             "#0d0887"
            ],
            [
             0.1111111111111111,
             "#46039f"
            ],
            [
             0.2222222222222222,
             "#7201a8"
            ],
            [
             0.3333333333333333,
             "#9c179e"
            ],
            [
             0.4444444444444444,
             "#bd3786"
            ],
            [
             0.5555555555555556,
             "#d8576b"
            ],
            [
             0.6666666666666666,
             "#ed7953"
            ],
            [
             0.7777777777777778,
             "#fb9f3a"
            ],
            [
             0.8888888888888888,
             "#fdca26"
            ],
            [
             1,
             "#f0f921"
            ]
           ],
           "sequentialminus": [
            [
             0,
             "#0d0887"
            ],
            [
             0.1111111111111111,
             "#46039f"
            ],
            [
             0.2222222222222222,
             "#7201a8"
            ],
            [
             0.3333333333333333,
             "#9c179e"
            ],
            [
             0.4444444444444444,
             "#bd3786"
            ],
            [
             0.5555555555555556,
             "#d8576b"
            ],
            [
             0.6666666666666666,
             "#ed7953"
            ],
            [
             0.7777777777777778,
             "#fb9f3a"
            ],
            [
             0.8888888888888888,
             "#fdca26"
            ],
            [
             1,
             "#f0f921"
            ]
           ]
          },
          "colorway": [
           "#636efa",
           "#EF553B",
           "#00cc96",
           "#ab63fa",
           "#FFA15A",
           "#19d3f3",
           "#FF6692",
           "#B6E880",
           "#FF97FF",
           "#FECB52"
          ],
          "font": {
           "color": "#2a3f5f"
          },
          "geo": {
           "bgcolor": "white",
           "lakecolor": "white",
           "landcolor": "#E5ECF6",
           "showlakes": true,
           "showland": true,
           "subunitcolor": "white"
          },
          "hoverlabel": {
           "align": "left"
          },
          "hovermode": "closest",
          "mapbox": {
           "style": "light"
          },
          "paper_bgcolor": "white",
          "plot_bgcolor": "#E5ECF6",
          "polar": {
           "angularaxis": {
            "gridcolor": "white",
            "linecolor": "white",
            "ticks": ""
           },
           "bgcolor": "#E5ECF6",
           "radialaxis": {
            "gridcolor": "white",
            "linecolor": "white",
            "ticks": ""
           }
          },
          "scene": {
           "xaxis": {
            "backgroundcolor": "#E5ECF6",
            "gridcolor": "white",
            "gridwidth": 2,
            "linecolor": "white",
            "showbackground": true,
            "ticks": "",
            "zerolinecolor": "white"
           },
           "yaxis": {
            "backgroundcolor": "#E5ECF6",
            "gridcolor": "white",
            "gridwidth": 2,
            "linecolor": "white",
            "showbackground": true,
            "ticks": "",
            "zerolinecolor": "white"
           },
           "zaxis": {
            "backgroundcolor": "#E5ECF6",
            "gridcolor": "white",
            "gridwidth": 2,
            "linecolor": "white",
            "showbackground": true,
            "ticks": "",
            "zerolinecolor": "white"
           }
          },
          "shapedefaults": {
           "line": {
            "color": "#2a3f5f"
           }
          },
          "ternary": {
           "aaxis": {
            "gridcolor": "white",
            "linecolor": "white",
            "ticks": ""
           },
           "baxis": {
            "gridcolor": "white",
            "linecolor": "white",
            "ticks": ""
           },
           "bgcolor": "#E5ECF6",
           "caxis": {
            "gridcolor": "white",
            "linecolor": "white",
            "ticks": ""
           }
          },
          "title": {
           "x": 0.05
          },
          "xaxis": {
           "automargin": true,
           "gridcolor": "white",
           "linecolor": "white",
           "ticks": "",
           "title": {
            "standoff": 15
           },
           "zerolinecolor": "white",
           "zerolinewidth": 2
          },
          "yaxis": {
           "automargin": true,
           "gridcolor": "white",
           "linecolor": "white",
           "ticks": "",
           "title": {
            "standoff": 15
           },
           "zerolinecolor": "white",
           "zerolinewidth": 2
          }
         }
        },
        "title": {
         "text": "Correlation rm - medv"
        },
        "xaxis": {
         "anchor": "y",
         "domain": [
          0,
          1
         ],
         "title": {
          "text": "rm"
         }
        },
        "yaxis": {
         "anchor": "x",
         "domain": [
          0,
          1
         ],
         "title": {
          "text": "medv"
         }
        }
       }
      },
      "text/html": [
       "<div>\n",
       "        \n",
       "        \n",
       "            <div id=\"ba99ae66-8673-4c00-a817-9086ba850c0d\" class=\"plotly-graph-div\" style=\"height:525px; width:100%;\"></div>\n",
       "            <script type=\"text/javascript\">\n",
       "                require([\"plotly\"], function(Plotly) {\n",
       "                    window.PLOTLYENV=window.PLOTLYENV || {};\n",
       "                    \n",
       "                if (document.getElementById(\"ba99ae66-8673-4c00-a817-9086ba850c0d\")) {\n",
       "                    Plotly.newPlot(\n",
       "                        'ba99ae66-8673-4c00-a817-9086ba850c0d',\n",
       "                        [{\"hoverlabel\": {\"namelength\": 0}, \"hovertemplate\": \"rm=%{x}<br>medv=%{y}\", \"legendgroup\": \"\", \"marker\": {\"color\": \"#636efa\", \"symbol\": \"circle\"}, \"mode\": \"markers\", \"name\": \"\", \"showlegend\": false, \"type\": \"scatter\", \"x\": [5.961, 5.9270000000000005, 5.972, 5.597, 6.115, 7.185, 6.718, 6.266, 6.832999999999999, 6.129, 5.303999999999999, 6.606, 6.6739999999999995, 6.456, 6.152, 6.75, 6.358, 5.303999999999999, 6.122000000000001, 6.51, 6.38, 6.372000000000001, 6.14, 6.546, 6.54, 5.705, 6.218999999999999, 6.8, 6.108, 5.8839999999999995, 6.604, 6.144, 6.0089999999999995, 5.914, 6.376, 7.831, 6.726, 5.976, 6.812, 6.251, 6.13, 6.619, 6.513, 6.112, 5.602, 6.167000000000001, 6.152, 7.52, 6.629, 6.38, 5.5360000000000005, 7.327000000000001, 7.61, 8.266, 7.061, 7.691, 6.086, 6.096, 6.223, 7.393, 6.434, 6.849, 6.442, 7.185, 6.59, 5.807, 6.454, 6.794, 6.162000000000001, 6.683, 6.195, 6.474, 7.42, 6.398, 6.405, 5.747000000000001, 6.209, 5.803, 5.727, 6.406000000000001, 5.905, 6.7010000000000005, 5.7589999999999995, 7.47, 6.421, 6.279, 8.297, 3.863, 6.059, 5.936, 5.712999999999999, 6.254, 6.471, 6.245, 6.495, 6.968, 5.404, 6.251, 6.77, 7.765, 6.957000000000001, 6.617999999999999, 6.1739999999999995, 6.635, 7.2410000000000005, 6.943, 6.43, 5.985, 7.274, 5.468, 6.167000000000001, 6.567, 6.426, 5.712999999999999, 4.973, 5.707000000000001, 5.599, 6.595, 4.9030000000000005, 5.9239999999999995, 5.412000000000001, 6.02, 6.6160000000000005, 5.933, 6.162999999999999, 5.604, 6.319, 7.147, 6.297000000000001, 6.98, 6.164, 6.565, 5.648, 6.072, 5.52, 6.657, 6.0089999999999995, 4.652, 5.414, 5.966, 6.425, 7.155, 8.78, 5.926, 6.064, 6.3260000000000005, 6.242000000000001, 6.226, 6.511, 6.096, 8.04, 6.556, 5.403, 6.404, 6.579, 5.841, 5.965, 5.85, 6.395, 6.879, 4.368, 4.963, 6.004, 5.935, 5.854, 5.456, 5.8870000000000005, 6.593, 6.642, 6.939, 4.138, 5.856, 6.649, 6.852, 6.655, 6.0920000000000005, 5.888999999999999, 5.837000000000001, 5.7860000000000005, 6.211, 6.781000000000001, 6.229, 5.859, 5.39, 6.082999999999999, 7.107, 5.879, 6.8420000000000005, 5.709, 6.459, 6.678, 6.25, 5.874, 8.704, 6.095, 6.8260000000000005, 5.617000000000001, 5.572, 6.9510000000000005, 6.162000000000001, 6.229, 6.114, 5.0360000000000005, 7.206, 5.997999999999999, 7.287000000000001, 6.431, 5.565, 5.961, 6.976, 6.417000000000001, 5.012, 5.891, 5.404, 5.093, 6.229, 6.103, 6.871, 6.4110000000000005, 7.489, 6.416, 6.782, 6.897, 6.49, 5.856, 6.516, 5.707999999999999, 6.081, 6.377000000000001, 6.485, 7.267, 5.885, 6.019, 6.023, 6.402, 5.39, 6.482, 6.824, 6.31, 6.3020000000000005, 6.415, 5.888, 5.662999999999999, 5.936, 6.315, 6.212000000000001, 5.79, 6.487, 5.731, 4.628, 6.167000000000001, 6.545, 5.277, 6.232, 6.7620000000000005, 6.631, 5.682, 6.0120000000000005, 5.593999999999999, 5.7620000000000005, 6.066, 6.301, 6.013999999999999, 8.375, 6.193, 6.051, 6.004, 6.635, 6.006, 5.782, 7.686, 7.313, 6.343, 5.88, 6.069, 6.375, 7.416, 6.209, 6.047000000000001, 5.272, 5.593, 6.388999999999999, 5.875, 5.895, 5.857, 5.834, 5.96, 6.2860000000000005, 6.176, 6.63, 5.7829999999999995, 6.315, 8.337, 5.896, 5.605, 6.273, 6.495, 6.169, 5.942, 6.348, 6.997999999999999, 6.525, 6.185, 7.875, 5.836, 6.207999999999999, 6.5520000000000005, 7.412000000000001, 8.259, 6.537999999999999, 6.29, 7.013999999999999, 5.813, 7.041, 6.405, 6.12, 6.041, 6.122000000000001, 5.851, 6.438, 5.983, 5.67, 6.728, 6.172000000000001, 6.393, 5.852, 6.861000000000001, 6.437, 6.382000000000001, 6.5489999999999995, 6.372999999999999, 5.983, 6.153, 6.317, 6.727, 6.982, 6.216, 6.727, 7.332999999999999, 6.563, 6.151, 7.928999999999999, 5.877999999999999, 5.7010000000000005, 6.461, 5.872000000000001, 6.874, 6.433, 7.104, 6.86, 6.316, 6.144, 5.631, 5.968, 6.002999999999999, 5.6129999999999995, 6.575, 6.417000000000001, 5.92, 7.079, 5.186, 5.7410000000000005, 6.98, 6.193, 5.867999999999999, 6.211, 5.987, 5.362, 4.88, 6.739, 7.016, 6.436, 5.399, 6.312, 6.794, 5.888, 8.247, 6.3260000000000005, 5.935, 6.696000000000001, 6.417000000000001, 7.024, 6.127000000000001, 6.015, 5.87, 6.715, 5.813, 6.185, 7.922999999999999, 6.382999999999999, 6.481], \"xaxis\": \"x\", \"y\": [21.7, 19.6, 20.3, 15.4, 20.5, 34.9, 26.2, 21.6, 14.1, 17.0, 10.4, 23.3, 21.0, 22.2, 8.7, 23.7, 22.2, 12.0, 21.5, 23.3, 9.5, 23.0, 20.8, 29.4, 16.5, 16.2, 18.4, 31.1, 21.9, 18.6, 29.1, 36.2, 21.7, 17.8, 23.1, 50.0, 29.0, 12.7, 35.1, 19.9, 13.8, 23.9, 20.2, 22.6, 19.4, 19.9, 15.6, 43.1, 13.4, 13.1, 11.3, 31.0, 42.3, 44.8, 25.0, 35.2, 24.0, 18.2, 10.2, 17.8, 7.2, 28.2, 22.9, 34.7, 22.0, 22.4, 17.1, 22.0, 24.1, 50.0, 21.7, 19.8, 33.4, 25.0, 22.0, 8.5, 23.2, 16.8, 18.2, 17.1, 20.6, 16.4, 19.9, 43.5, 21.6, 20.0, 50.0, 23.1, 20.6, 13.5, 12.7, 18.5, 13.1, 23.4, 18.4, 35.4, 19.3, 12.6, 26.6, 39.8, 29.6, 30.1, 14.0, 24.5, 32.7, 41.3, 28.7, 19.0, 34.6, 15.6, 20.1, 23.8, 23.8, 15.1, 16.1, 21.8, 13.9, 30.8, 11.8, 15.6, 23.7, 23.2, 28.4, 18.9, 21.4, 26.4, 23.8, 36.2, 16.1, 37.2, 21.7, 24.8, 20.8, 14.5, 12.3, 17.2, 18.9, 10.5, 7.0, 24.7, 16.1, 37.9, 21.9, 19.1, 24.4, 19.6, 23.0, 20.5, 25.0, 13.5, 37.6, 29.8, 13.4, 12.1, 24.1, 20.0, 19.6, 21.0, 21.7, 27.5, 8.8, 21.9, 18.9, 8.4, 22.7, 20.2, 12.7, 22.4, 28.7, 26.6, 11.9, 21.1, 13.9, 27.5, 15.2, 18.7, 21.7, 10.2, 20.0, 25.0, 26.5, 19.4, 22.6, 11.5, 22.2, 30.3, 18.8, 30.1, 19.4, 11.8, 28.6, 27.0, 20.3, 50.0, 20.1, 33.1, 17.2, 23.1, 26.7, 13.3, 21.4, 19.1, 9.7, 36.5, 23.4, 33.3, 24.6, 11.7, 20.5, 23.9, 13.0, 15.3, 22.6, 19.6, 8.1, 19.6, 13.4, 24.8, 16.7, 50.0, 23.6, 32.0, 22.0, 22.9, 17.3, 23.1, 18.5, 20.0, 15.0, 15.4, 33.2, 20.9, 21.2, 19.4, 22.3, 19.7, 29.1, 8.4, 20.7, 24.8, 25.0, 23.3, 18.2, 20.6, 24.6, 17.8, 20.3, 24.4, 19.3, 17.9, 22.9, 10.9, 7.2, 21.2, 25.0, 25.1, 19.3, 22.9, 17.4, 21.8, 24.3, 14.9, 17.5, 50.0, 13.8, 23.2, 20.3, 22.8, 14.2, 19.8, 46.7, 15.0, 7.2, 19.1, 21.2, 28.1, 33.2, 21.4, 14.8, 13.1, 17.6, 23.9, 17.4, 18.5, 13.3, 19.9, 21.7, 21.4, 21.2, 26.6, 22.5, 22.3, 41.7, 8.3, 18.5, 24.1, 26.4, 25.3, 17.4, 14.5, 33.4, 14.1, 14.6, 50.0, 19.5, 11.7, 31.5, 31.7, 42.8, 24.4, 23.5, 30.7, 14.5, 29.0, 12.5, 20.6, 20.4, 22.1, 19.5, 24.8, 20.1, 23.1, 14.9, 27.1, 23.7, 6.3, 28.5, 23.2, 23.1, 27.1, 23.0, 13.6, 29.6, 19.5, 28.0, 33.1, 50.0, 27.5, 36.0, 32.5, 17.8, 50.0, 22.0, 13.1, 9.6, 20.4, 31.2, 24.5, 33.0, 29.9, 22.2, 19.8, 16.5, 18.7, 19.1, 15.7, 24.0, 22.6, 20.7, 28.7, 17.8, 18.7, 29.8, 11.0, 19.3, 24.7, 5.6, 20.8, 10.2, 30.5, 50.0, 14.3, 14.4, 21.2, 13.3, 18.9, 48.3, 24.4, 23.1, 23.9, 24.2, 34.9, 23.9, 22.5, 22.0, 22.8, 16.6, 14.1, 50.0, 24.7, 23.7], \"yaxis\": \"y\"}],\n",
       "                        {\"legend\": {\"tracegroupgap\": 0}, \"template\": {\"data\": {\"bar\": [{\"error_x\": {\"color\": \"#2a3f5f\"}, \"error_y\": {\"color\": \"#2a3f5f\"}, \"marker\": {\"line\": {\"color\": \"#E5ECF6\", \"width\": 0.5}}, \"type\": \"bar\"}], \"barpolar\": [{\"marker\": {\"line\": {\"color\": \"#E5ECF6\", \"width\": 0.5}}, \"type\": \"barpolar\"}], \"carpet\": [{\"aaxis\": {\"endlinecolor\": \"#2a3f5f\", \"gridcolor\": \"white\", \"linecolor\": \"white\", \"minorgridcolor\": \"white\", \"startlinecolor\": \"#2a3f5f\"}, \"baxis\": {\"endlinecolor\": \"#2a3f5f\", \"gridcolor\": \"white\", \"linecolor\": \"white\", \"minorgridcolor\": \"white\", \"startlinecolor\": \"#2a3f5f\"}, \"type\": \"carpet\"}], \"choropleth\": [{\"colorbar\": {\"outlinewidth\": 0, \"ticks\": \"\"}, \"type\": \"choropleth\"}], \"contour\": [{\"colorbar\": {\"outlinewidth\": 0, \"ticks\": \"\"}, \"colorscale\": [[0.0, \"#0d0887\"], [0.1111111111111111, \"#46039f\"], [0.2222222222222222, \"#7201a8\"], [0.3333333333333333, \"#9c179e\"], [0.4444444444444444, \"#bd3786\"], [0.5555555555555556, \"#d8576b\"], [0.6666666666666666, \"#ed7953\"], [0.7777777777777778, \"#fb9f3a\"], [0.8888888888888888, \"#fdca26\"], [1.0, \"#f0f921\"]], \"type\": \"contour\"}], \"contourcarpet\": [{\"colorbar\": {\"outlinewidth\": 0, \"ticks\": \"\"}, \"type\": \"contourcarpet\"}], \"heatmap\": [{\"colorbar\": {\"outlinewidth\": 0, \"ticks\": \"\"}, \"colorscale\": [[0.0, \"#0d0887\"], [0.1111111111111111, \"#46039f\"], [0.2222222222222222, \"#7201a8\"], [0.3333333333333333, \"#9c179e\"], [0.4444444444444444, \"#bd3786\"], [0.5555555555555556, \"#d8576b\"], [0.6666666666666666, \"#ed7953\"], [0.7777777777777778, \"#fb9f3a\"], [0.8888888888888888, \"#fdca26\"], [1.0, \"#f0f921\"]], \"type\": \"heatmap\"}], \"heatmapgl\": [{\"colorbar\": {\"outlinewidth\": 0, \"ticks\": \"\"}, \"colorscale\": [[0.0, \"#0d0887\"], [0.1111111111111111, \"#46039f\"], [0.2222222222222222, \"#7201a8\"], [0.3333333333333333, \"#9c179e\"], [0.4444444444444444, \"#bd3786\"], [0.5555555555555556, \"#d8576b\"], [0.6666666666666666, \"#ed7953\"], [0.7777777777777778, \"#fb9f3a\"], [0.8888888888888888, \"#fdca26\"], [1.0, \"#f0f921\"]], \"type\": \"heatmapgl\"}], \"histogram\": [{\"marker\": {\"colorbar\": {\"outlinewidth\": 0, \"ticks\": \"\"}}, \"type\": \"histogram\"}], \"histogram2d\": [{\"colorbar\": {\"outlinewidth\": 0, \"ticks\": \"\"}, \"colorscale\": [[0.0, \"#0d0887\"], [0.1111111111111111, \"#46039f\"], [0.2222222222222222, \"#7201a8\"], [0.3333333333333333, \"#9c179e\"], [0.4444444444444444, \"#bd3786\"], [0.5555555555555556, \"#d8576b\"], [0.6666666666666666, \"#ed7953\"], [0.7777777777777778, \"#fb9f3a\"], [0.8888888888888888, \"#fdca26\"], [1.0, \"#f0f921\"]], \"type\": \"histogram2d\"}], \"histogram2dcontour\": [{\"colorbar\": {\"outlinewidth\": 0, \"ticks\": \"\"}, \"colorscale\": [[0.0, \"#0d0887\"], [0.1111111111111111, \"#46039f\"], [0.2222222222222222, \"#7201a8\"], [0.3333333333333333, \"#9c179e\"], [0.4444444444444444, \"#bd3786\"], [0.5555555555555556, \"#d8576b\"], [0.6666666666666666, \"#ed7953\"], [0.7777777777777778, \"#fb9f3a\"], [0.8888888888888888, \"#fdca26\"], [1.0, \"#f0f921\"]], \"type\": \"histogram2dcontour\"}], \"mesh3d\": [{\"colorbar\": {\"outlinewidth\": 0, \"ticks\": \"\"}, \"type\": \"mesh3d\"}], \"parcoords\": [{\"line\": {\"colorbar\": {\"outlinewidth\": 0, \"ticks\": \"\"}}, \"type\": \"parcoords\"}], \"pie\": [{\"automargin\": true, \"type\": \"pie\"}], \"scatter\": [{\"marker\": {\"colorbar\": {\"outlinewidth\": 0, \"ticks\": \"\"}}, \"type\": \"scatter\"}], \"scatter3d\": [{\"line\": {\"colorbar\": {\"outlinewidth\": 0, \"ticks\": \"\"}}, \"marker\": {\"colorbar\": {\"outlinewidth\": 0, \"ticks\": \"\"}}, \"type\": \"scatter3d\"}], \"scattercarpet\": [{\"marker\": {\"colorbar\": {\"outlinewidth\": 0, \"ticks\": \"\"}}, \"type\": \"scattercarpet\"}], \"scattergeo\": [{\"marker\": {\"colorbar\": {\"outlinewidth\": 0, \"ticks\": \"\"}}, \"type\": \"scattergeo\"}], \"scattergl\": [{\"marker\": {\"colorbar\": {\"outlinewidth\": 0, \"ticks\": \"\"}}, \"type\": \"scattergl\"}], \"scattermapbox\": [{\"marker\": {\"colorbar\": {\"outlinewidth\": 0, \"ticks\": \"\"}}, \"type\": \"scattermapbox\"}], \"scatterpolar\": [{\"marker\": {\"colorbar\": {\"outlinewidth\": 0, \"ticks\": \"\"}}, \"type\": \"scatterpolar\"}], \"scatterpolargl\": [{\"marker\": {\"colorbar\": {\"outlinewidth\": 0, \"ticks\": \"\"}}, \"type\": \"scatterpolargl\"}], \"scatterternary\": [{\"marker\": {\"colorbar\": {\"outlinewidth\": 0, \"ticks\": \"\"}}, \"type\": \"scatterternary\"}], \"surface\": [{\"colorbar\": {\"outlinewidth\": 0, \"ticks\": \"\"}, \"colorscale\": [[0.0, \"#0d0887\"], [0.1111111111111111, \"#46039f\"], [0.2222222222222222, \"#7201a8\"], [0.3333333333333333, \"#9c179e\"], [0.4444444444444444, \"#bd3786\"], [0.5555555555555556, \"#d8576b\"], [0.6666666666666666, \"#ed7953\"], [0.7777777777777778, \"#fb9f3a\"], [0.8888888888888888, \"#fdca26\"], [1.0, \"#f0f921\"]], \"type\": \"surface\"}], \"table\": [{\"cells\": {\"fill\": {\"color\": \"#EBF0F8\"}, \"line\": {\"color\": \"white\"}}, \"header\": {\"fill\": {\"color\": \"#C8D4E3\"}, \"line\": {\"color\": \"white\"}}, \"type\": \"table\"}]}, \"layout\": {\"annotationdefaults\": {\"arrowcolor\": \"#2a3f5f\", \"arrowhead\": 0, \"arrowwidth\": 1}, \"coloraxis\": {\"colorbar\": {\"outlinewidth\": 0, \"ticks\": \"\"}}, \"colorscale\": {\"diverging\": [[0, \"#8e0152\"], [0.1, \"#c51b7d\"], [0.2, \"#de77ae\"], [0.3, \"#f1b6da\"], [0.4, \"#fde0ef\"], [0.5, \"#f7f7f7\"], [0.6, \"#e6f5d0\"], [0.7, \"#b8e186\"], [0.8, \"#7fbc41\"], [0.9, \"#4d9221\"], [1, \"#276419\"]], \"sequential\": [[0.0, \"#0d0887\"], [0.1111111111111111, \"#46039f\"], [0.2222222222222222, \"#7201a8\"], [0.3333333333333333, \"#9c179e\"], [0.4444444444444444, \"#bd3786\"], [0.5555555555555556, \"#d8576b\"], [0.6666666666666666, \"#ed7953\"], [0.7777777777777778, \"#fb9f3a\"], [0.8888888888888888, \"#fdca26\"], [1.0, \"#f0f921\"]], \"sequentialminus\": [[0.0, \"#0d0887\"], [0.1111111111111111, \"#46039f\"], [0.2222222222222222, \"#7201a8\"], [0.3333333333333333, \"#9c179e\"], [0.4444444444444444, \"#bd3786\"], [0.5555555555555556, \"#d8576b\"], [0.6666666666666666, \"#ed7953\"], [0.7777777777777778, \"#fb9f3a\"], [0.8888888888888888, \"#fdca26\"], [1.0, \"#f0f921\"]]}, \"colorway\": [\"#636efa\", \"#EF553B\", \"#00cc96\", \"#ab63fa\", \"#FFA15A\", \"#19d3f3\", \"#FF6692\", \"#B6E880\", \"#FF97FF\", \"#FECB52\"], \"font\": {\"color\": \"#2a3f5f\"}, \"geo\": {\"bgcolor\": \"white\", \"lakecolor\": \"white\", \"landcolor\": \"#E5ECF6\", \"showlakes\": true, \"showland\": true, \"subunitcolor\": \"white\"}, \"hoverlabel\": {\"align\": \"left\"}, \"hovermode\": \"closest\", \"mapbox\": {\"style\": \"light\"}, \"paper_bgcolor\": \"white\", \"plot_bgcolor\": \"#E5ECF6\", \"polar\": {\"angularaxis\": {\"gridcolor\": \"white\", \"linecolor\": \"white\", \"ticks\": \"\"}, \"bgcolor\": \"#E5ECF6\", \"radialaxis\": {\"gridcolor\": \"white\", \"linecolor\": \"white\", \"ticks\": \"\"}}, \"scene\": {\"xaxis\": {\"backgroundcolor\": \"#E5ECF6\", \"gridcolor\": \"white\", \"gridwidth\": 2, \"linecolor\": \"white\", \"showbackground\": true, \"ticks\": \"\", \"zerolinecolor\": \"white\"}, \"yaxis\": {\"backgroundcolor\": \"#E5ECF6\", \"gridcolor\": \"white\", \"gridwidth\": 2, \"linecolor\": \"white\", \"showbackground\": true, \"ticks\": \"\", \"zerolinecolor\": \"white\"}, \"zaxis\": {\"backgroundcolor\": \"#E5ECF6\", \"gridcolor\": \"white\", \"gridwidth\": 2, \"linecolor\": \"white\", \"showbackground\": true, \"ticks\": \"\", \"zerolinecolor\": \"white\"}}, \"shapedefaults\": {\"line\": {\"color\": \"#2a3f5f\"}}, \"ternary\": {\"aaxis\": {\"gridcolor\": \"white\", \"linecolor\": \"white\", \"ticks\": \"\"}, \"baxis\": {\"gridcolor\": \"white\", \"linecolor\": \"white\", \"ticks\": \"\"}, \"bgcolor\": \"#E5ECF6\", \"caxis\": {\"gridcolor\": \"white\", \"linecolor\": \"white\", \"ticks\": \"\"}}, \"title\": {\"x\": 0.05}, \"xaxis\": {\"automargin\": true, \"gridcolor\": \"white\", \"linecolor\": \"white\", \"ticks\": \"\", \"title\": {\"standoff\": 15}, \"zerolinecolor\": \"white\", \"zerolinewidth\": 2}, \"yaxis\": {\"automargin\": true, \"gridcolor\": \"white\", \"linecolor\": \"white\", \"ticks\": \"\", \"title\": {\"standoff\": 15}, \"zerolinecolor\": \"white\", \"zerolinewidth\": 2}}}, \"title\": {\"text\": \"Correlation rm - medv\"}, \"xaxis\": {\"anchor\": \"y\", \"domain\": [0.0, 1.0], \"title\": {\"text\": \"rm\"}}, \"yaxis\": {\"anchor\": \"x\", \"domain\": [0.0, 1.0], \"title\": {\"text\": \"medv\"}}},\n",
       "                        {\"responsive\": true}\n",
       "                    ).then(function(){\n",
       "                            \n",
       "var gd = document.getElementById('ba99ae66-8673-4c00-a817-9086ba850c0d');\n",
       "var x = new MutationObserver(function (mutations, observer) {{\n",
       "        var display = window.getComputedStyle(gd).display;\n",
       "        if (!display || display === 'none') {{\n",
       "            console.log([gd, 'removed!']);\n",
       "            Plotly.purge(gd);\n",
       "            observer.disconnect();\n",
       "        }}\n",
       "}});\n",
       "\n",
       "// Listen for the removal of the full notebook cells\n",
       "var notebookContainer = gd.closest('#notebook-container');\n",
       "if (notebookContainer) {{\n",
       "    x.observe(notebookContainer, {childList: true});\n",
       "}}\n",
       "\n",
       "// Listen for the clearing of the current output cell\n",
       "var outputEl = gd.closest('.output');\n",
       "if (outputEl) {{\n",
       "    x.observe(outputEl, {childList: true});\n",
       "}}\n",
       "\n",
       "                        })\n",
       "                };\n",
       "                });\n",
       "            </script>\n",
       "        </div>"
      ]
     },
     "metadata": {},
     "output_type": "display_data"
    }
   ],
   "source": [
    "px.scatter(data, x='rm', y='medv', title='Correlation rm - medv')"
   ]
  },
  {
   "cell_type": "code",
   "execution_count": 104,
   "metadata": {},
   "outputs": [
    {
     "data": {
      "application/vnd.plotly.v1+json": {
       "config": {
        "plotlyServerURL": "https://plot.ly"
       },
       "data": [
        {
         "hoverlabel": {
          "namelength": 0
         },
         "hovertemplate": "ptratio=%{x}<br>medv=%{y}",
         "legendgroup": "",
         "marker": {
          "color": "#636efa",
          "symbol": "circle"
         },
         "mode": "markers",
         "name": "",
         "showlegend": false,
         "type": "scatter",
         "x": [
          19.2,
          19.7,
          18.4,
          14.7,
          16.8,
          15.2,
          19.1,
          18.4,
          20.2,
          14.7,
          20.2,
          16.6,
          21,
          19.7,
          20.2,
          20.2,
          16.6,
          20.2,
          14.7,
          14.7,
          20.2,
          21.2,
          18.7,
          16.6,
          15.9,
          18.4,
          20.2,
          15.6,
          16.4,
          18.3,
          15.6,
          17.8,
          16,
          18.4,
          19.6,
          17.8,
          17.4,
          20.2,
          14.9,
          20.2,
          14.7,
          19,
          20.2,
          20.2,
          17.9,
          20.2,
          14.7,
          13,
          20.2,
          20.2,
          20.2,
          13,
          14.7,
          17.4,
          20.2,
          18.6,
          17.4,
          21,
          20.2,
          20.2,
          20.2,
          18.4,
          18.2,
          17.8,
          16.1,
          18.6,
          21.2,
          21,
          14.7,
          20.2,
          20.9,
          20.9,
          18.4,
          20.2,
          17.8,
          20.2,
          16.6,
          20.2,
          21,
          20.2,
          20.2,
          20.2,
          20.2,
          13,
          17.8,
          18.7,
          13,
          20.2,
          20.2,
          20.2,
          21,
          17.8,
          20.2,
          19.2,
          21,
          14.9,
          18.6,
          20.2,
          17.9,
          17.8,
          19.1,
          17.4,
          21.2,
          17,
          15.5,
          14.7,
          18.7,
          20.2,
          12.6,
          14.7,
          20.9,
          18.4,
          19.6,
          20.2,
          18.4,
          19.2,
          21,
          18.3,
          14.7,
          21,
          18.6,
          16.6,
          18.4,
          19.2,
          18,
          17.8,
          14.7,
          18.7,
          20.2,
          17.8,
          17.4,
          16.6,
          20.2,
          21,
          20.2,
          20.2,
          15.2,
          20.2,
          20.1,
          19.2,
          20.2,
          17.8,
          20.2,
          20.2,
          18.6,
          21.2,
          20.2,
          19.1,
          16.8,
          21,
          17.4,
          15.2,
          14.7,
          20.2,
          18.3,
          19.2,
          21,
          19.2,
          20.2,
          17.4,
          20.2,
          20.2,
          15.2,
          20.2,
          14.7,
          21,
          20.2,
          21,
          16.4,
          19.7,
          20.2,
          18.6,
          20.2,
          20.2,
          20.2,
          17.8,
          15.2,
          20.2,
          17.9,
          18.2,
          20.9,
          20.9,
          16.6,
          20.2,
          19.6,
          12.6,
          19.1,
          13,
          14.7,
          20.2,
          16,
          14.7,
          18.7,
          13,
          16.6,
          17.6,
          20.2,
          16.6,
          17.4,
          20.2,
          20.2,
          20.2,
          20.2,
          13,
          16.8,
          12.6,
          19.6,
          20.2,
          19.1,
          21,
          20.2,
          14.7,
          18.6,
          14.7,
          20.1,
          20.2,
          20.2,
          14.8,
          20.2,
          14.7,
          16.6,
          15.2,
          16.6,
          19.7,
          19.1,
          17.9,
          19.6,
          20.2,
          15.2,
          20.2,
          17.6,
          18.9,
          19.2,
          18.4,
          14.7,
          19.2,
          17.6,
          20.2,
          20.2,
          19,
          19.6,
          16.4,
          22,
          22,
          16.6,
          20.2,
          16,
          19.1,
          17.8,
          20.2,
          19,
          20.2,
          20.2,
          18.7,
          19.7,
          17.4,
          17.9,
          15.2,
          18.9,
          20.2,
          14.7,
          20.2,
          18.8,
          14.7,
          20.2,
          20.2,
          19.1,
          18.4,
          20.2,
          18.4,
          17.4,
          20.2,
          20.2,
          14.7,
          17.9,
          18.6,
          18,
          20.2,
          21,
          14.7,
          19.1,
          18.5,
          14.7,
          20.2,
          21.2,
          21,
          18.6,
          18.7,
          17.8,
          18.5,
          18.6,
          16.6,
          17.4,
          20.2,
          19.1,
          18.7,
          16.1,
          17.9,
          21.2,
          20.2,
          18.7,
          20.2,
          20.2,
          14.4,
          20.9,
          20.2,
          17.4,
          17.4,
          19.1,
          18.6,
          16.1,
          13,
          21,
          14.8,
          20.2,
          21,
          19.6,
          18.4,
          20.9,
          19.1,
          20.1,
          19.2,
          20.2,
          15.2,
          16.6,
          20.2,
          19.2,
          20.2,
          18.4,
          16,
          16.4,
          20.1,
          17.8,
          20.2,
          19,
          16.1,
          20.2,
          20.9,
          13,
          17.8,
          21.2,
          14.7,
          18.9,
          21,
          20.2,
          17.8,
          17.6,
          19.1,
          18.6,
          16.6,
          20.2,
          16.9,
          15.2,
          20.2,
          20.2,
          19.1,
          15.3,
          17.8,
          18.6,
          17.8,
          14.7,
          19.7,
          20.2,
          20.2,
          16.9,
          17.9,
          20.2,
          20.2,
          20.2,
          15.2,
          20.2,
          20.2,
          17.9,
          20.2,
          20.2,
          21.1,
          17.4,
          18.6,
          21,
          17.6,
          19.2,
          18.3,
          16,
          18.5,
          19.1,
          17.8,
          21,
          20.2,
          13.6,
          17.3,
          16.6
         ],
         "xaxis": "x",
         "y": [
          21.7,
          19.6,
          20.3,
          15.4,
          20.5,
          34.9,
          26.2,
          21.6,
          14.1,
          17,
          10.4,
          23.3,
          21,
          22.2,
          8.7,
          23.7,
          22.2,
          12,
          21.5,
          23.3,
          9.5,
          23,
          20.8,
          29.4,
          16.5,
          16.2,
          18.4,
          31.1,
          21.9,
          18.6,
          29.1,
          36.2,
          21.7,
          17.8,
          23.1,
          50,
          29,
          12.7,
          35.1,
          19.9,
          13.8,
          23.9,
          20.2,
          22.6,
          19.4,
          19.9,
          15.6,
          43.1,
          13.4,
          13.1,
          11.3,
          31,
          42.3,
          44.8,
          25,
          35.2,
          24,
          18.2,
          10.2,
          17.8,
          7.2,
          28.2,
          22.9,
          34.7,
          22,
          22.4,
          17.1,
          22,
          24.1,
          50,
          21.7,
          19.8,
          33.4,
          25,
          22,
          8.5,
          23.2,
          16.8,
          18.2,
          17.1,
          20.6,
          16.4,
          19.9,
          43.5,
          21.6,
          20,
          50,
          23.1,
          20.6,
          13.5,
          12.7,
          18.5,
          13.1,
          23.4,
          18.4,
          35.4,
          19.3,
          12.6,
          26.6,
          39.8,
          29.6,
          30.1,
          14,
          24.5,
          32.7,
          41.3,
          28.7,
          19,
          34.6,
          15.6,
          20.1,
          23.8,
          23.8,
          15.1,
          16.1,
          21.8,
          13.9,
          30.8,
          11.8,
          15.6,
          23.7,
          23.2,
          28.4,
          18.9,
          21.4,
          26.4,
          23.8,
          36.2,
          16.1,
          37.2,
          21.7,
          24.8,
          20.8,
          14.5,
          12.3,
          17.2,
          18.9,
          10.5,
          7,
          24.7,
          16.1,
          37.9,
          21.9,
          19.1,
          24.4,
          19.6,
          23,
          20.5,
          25,
          13.5,
          37.6,
          29.8,
          13.4,
          12.1,
          24.1,
          20,
          19.6,
          21,
          21.7,
          27.5,
          8.8,
          21.9,
          18.9,
          8.4,
          22.7,
          20.2,
          12.7,
          22.4,
          28.7,
          26.6,
          11.9,
          21.1,
          13.9,
          27.5,
          15.2,
          18.7,
          21.7,
          10.2,
          20,
          25,
          26.5,
          19.4,
          22.6,
          11.5,
          22.2,
          30.3,
          18.8,
          30.1,
          19.4,
          11.8,
          28.6,
          27,
          20.3,
          50,
          20.1,
          33.1,
          17.2,
          23.1,
          26.7,
          13.3,
          21.4,
          19.1,
          9.7,
          36.5,
          23.4,
          33.3,
          24.6,
          11.7,
          20.5,
          23.9,
          13,
          15.3,
          22.6,
          19.6,
          8.1,
          19.6,
          13.4,
          24.8,
          16.7,
          50,
          23.6,
          32,
          22,
          22.9,
          17.3,
          23.1,
          18.5,
          20,
          15,
          15.4,
          33.2,
          20.9,
          21.2,
          19.4,
          22.3,
          19.7,
          29.1,
          8.4,
          20.7,
          24.8,
          25,
          23.3,
          18.2,
          20.6,
          24.6,
          17.8,
          20.3,
          24.4,
          19.3,
          17.9,
          22.9,
          10.9,
          7.2,
          21.2,
          25,
          25.1,
          19.3,
          22.9,
          17.4,
          21.8,
          24.3,
          14.9,
          17.5,
          50,
          13.8,
          23.2,
          20.3,
          22.8,
          14.2,
          19.8,
          46.7,
          15,
          7.2,
          19.1,
          21.2,
          28.1,
          33.2,
          21.4,
          14.8,
          13.1,
          17.6,
          23.9,
          17.4,
          18.5,
          13.3,
          19.9,
          21.7,
          21.4,
          21.2,
          26.6,
          22.5,
          22.3,
          41.7,
          8.3,
          18.5,
          24.1,
          26.4,
          25.3,
          17.4,
          14.5,
          33.4,
          14.1,
          14.6,
          50,
          19.5,
          11.7,
          31.5,
          31.7,
          42.8,
          24.4,
          23.5,
          30.7,
          14.5,
          29,
          12.5,
          20.6,
          20.4,
          22.1,
          19.5,
          24.8,
          20.1,
          23.1,
          14.9,
          27.1,
          23.7,
          6.3,
          28.5,
          23.2,
          23.1,
          27.1,
          23,
          13.6,
          29.6,
          19.5,
          28,
          33.1,
          50,
          27.5,
          36,
          32.5,
          17.8,
          50,
          22,
          13.1,
          9.6,
          20.4,
          31.2,
          24.5,
          33,
          29.9,
          22.2,
          19.8,
          16.5,
          18.7,
          19.1,
          15.7,
          24,
          22.6,
          20.7,
          28.7,
          17.8,
          18.7,
          29.8,
          11,
          19.3,
          24.7,
          5.6,
          20.8,
          10.2,
          30.5,
          50,
          14.3,
          14.4,
          21.2,
          13.3,
          18.9,
          48.3,
          24.4,
          23.1,
          23.9,
          24.2,
          34.9,
          23.9,
          22.5,
          22,
          22.8,
          16.6,
          14.1,
          50,
          24.7,
          23.7
         ],
         "yaxis": "y"
        }
       ],
       "layout": {
        "legend": {
         "tracegroupgap": 0
        },
        "template": {
         "data": {
          "bar": [
           {
            "error_x": {
             "color": "#2a3f5f"
            },
            "error_y": {
             "color": "#2a3f5f"
            },
            "marker": {
             "line": {
              "color": "#E5ECF6",
              "width": 0.5
             }
            },
            "type": "bar"
           }
          ],
          "barpolar": [
           {
            "marker": {
             "line": {
              "color": "#E5ECF6",
              "width": 0.5
             }
            },
            "type": "barpolar"
           }
          ],
          "carpet": [
           {
            "aaxis": {
             "endlinecolor": "#2a3f5f",
             "gridcolor": "white",
             "linecolor": "white",
             "minorgridcolor": "white",
             "startlinecolor": "#2a3f5f"
            },
            "baxis": {
             "endlinecolor": "#2a3f5f",
             "gridcolor": "white",
             "linecolor": "white",
             "minorgridcolor": "white",
             "startlinecolor": "#2a3f5f"
            },
            "type": "carpet"
           }
          ],
          "choropleth": [
           {
            "colorbar": {
             "outlinewidth": 0,
             "ticks": ""
            },
            "type": "choropleth"
           }
          ],
          "contour": [
           {
            "colorbar": {
             "outlinewidth": 0,
             "ticks": ""
            },
            "colorscale": [
             [
              0,
              "#0d0887"
             ],
             [
              0.1111111111111111,
              "#46039f"
             ],
             [
              0.2222222222222222,
              "#7201a8"
             ],
             [
              0.3333333333333333,
              "#9c179e"
             ],
             [
              0.4444444444444444,
              "#bd3786"
             ],
             [
              0.5555555555555556,
              "#d8576b"
             ],
             [
              0.6666666666666666,
              "#ed7953"
             ],
             [
              0.7777777777777778,
              "#fb9f3a"
             ],
             [
              0.8888888888888888,
              "#fdca26"
             ],
             [
              1,
              "#f0f921"
             ]
            ],
            "type": "contour"
           }
          ],
          "contourcarpet": [
           {
            "colorbar": {
             "outlinewidth": 0,
             "ticks": ""
            },
            "type": "contourcarpet"
           }
          ],
          "heatmap": [
           {
            "colorbar": {
             "outlinewidth": 0,
             "ticks": ""
            },
            "colorscale": [
             [
              0,
              "#0d0887"
             ],
             [
              0.1111111111111111,
              "#46039f"
             ],
             [
              0.2222222222222222,
              "#7201a8"
             ],
             [
              0.3333333333333333,
              "#9c179e"
             ],
             [
              0.4444444444444444,
              "#bd3786"
             ],
             [
              0.5555555555555556,
              "#d8576b"
             ],
             [
              0.6666666666666666,
              "#ed7953"
             ],
             [
              0.7777777777777778,
              "#fb9f3a"
             ],
             [
              0.8888888888888888,
              "#fdca26"
             ],
             [
              1,
              "#f0f921"
             ]
            ],
            "type": "heatmap"
           }
          ],
          "heatmapgl": [
           {
            "colorbar": {
             "outlinewidth": 0,
             "ticks": ""
            },
            "colorscale": [
             [
              0,
              "#0d0887"
             ],
             [
              0.1111111111111111,
              "#46039f"
             ],
             [
              0.2222222222222222,
              "#7201a8"
             ],
             [
              0.3333333333333333,
              "#9c179e"
             ],
             [
              0.4444444444444444,
              "#bd3786"
             ],
             [
              0.5555555555555556,
              "#d8576b"
             ],
             [
              0.6666666666666666,
              "#ed7953"
             ],
             [
              0.7777777777777778,
              "#fb9f3a"
             ],
             [
              0.8888888888888888,
              "#fdca26"
             ],
             [
              1,
              "#f0f921"
             ]
            ],
            "type": "heatmapgl"
           }
          ],
          "histogram": [
           {
            "marker": {
             "colorbar": {
              "outlinewidth": 0,
              "ticks": ""
             }
            },
            "type": "histogram"
           }
          ],
          "histogram2d": [
           {
            "colorbar": {
             "outlinewidth": 0,
             "ticks": ""
            },
            "colorscale": [
             [
              0,
              "#0d0887"
             ],
             [
              0.1111111111111111,
              "#46039f"
             ],
             [
              0.2222222222222222,
              "#7201a8"
             ],
             [
              0.3333333333333333,
              "#9c179e"
             ],
             [
              0.4444444444444444,
              "#bd3786"
             ],
             [
              0.5555555555555556,
              "#d8576b"
             ],
             [
              0.6666666666666666,
              "#ed7953"
             ],
             [
              0.7777777777777778,
              "#fb9f3a"
             ],
             [
              0.8888888888888888,
              "#fdca26"
             ],
             [
              1,
              "#f0f921"
             ]
            ],
            "type": "histogram2d"
           }
          ],
          "histogram2dcontour": [
           {
            "colorbar": {
             "outlinewidth": 0,
             "ticks": ""
            },
            "colorscale": [
             [
              0,
              "#0d0887"
             ],
             [
              0.1111111111111111,
              "#46039f"
             ],
             [
              0.2222222222222222,
              "#7201a8"
             ],
             [
              0.3333333333333333,
              "#9c179e"
             ],
             [
              0.4444444444444444,
              "#bd3786"
             ],
             [
              0.5555555555555556,
              "#d8576b"
             ],
             [
              0.6666666666666666,
              "#ed7953"
             ],
             [
              0.7777777777777778,
              "#fb9f3a"
             ],
             [
              0.8888888888888888,
              "#fdca26"
             ],
             [
              1,
              "#f0f921"
             ]
            ],
            "type": "histogram2dcontour"
           }
          ],
          "mesh3d": [
           {
            "colorbar": {
             "outlinewidth": 0,
             "ticks": ""
            },
            "type": "mesh3d"
           }
          ],
          "parcoords": [
           {
            "line": {
             "colorbar": {
              "outlinewidth": 0,
              "ticks": ""
             }
            },
            "type": "parcoords"
           }
          ],
          "pie": [
           {
            "automargin": true,
            "type": "pie"
           }
          ],
          "scatter": [
           {
            "marker": {
             "colorbar": {
              "outlinewidth": 0,
              "ticks": ""
             }
            },
            "type": "scatter"
           }
          ],
          "scatter3d": [
           {
            "line": {
             "colorbar": {
              "outlinewidth": 0,
              "ticks": ""
             }
            },
            "marker": {
             "colorbar": {
              "outlinewidth": 0,
              "ticks": ""
             }
            },
            "type": "scatter3d"
           }
          ],
          "scattercarpet": [
           {
            "marker": {
             "colorbar": {
              "outlinewidth": 0,
              "ticks": ""
             }
            },
            "type": "scattercarpet"
           }
          ],
          "scattergeo": [
           {
            "marker": {
             "colorbar": {
              "outlinewidth": 0,
              "ticks": ""
             }
            },
            "type": "scattergeo"
           }
          ],
          "scattergl": [
           {
            "marker": {
             "colorbar": {
              "outlinewidth": 0,
              "ticks": ""
             }
            },
            "type": "scattergl"
           }
          ],
          "scattermapbox": [
           {
            "marker": {
             "colorbar": {
              "outlinewidth": 0,
              "ticks": ""
             }
            },
            "type": "scattermapbox"
           }
          ],
          "scatterpolar": [
           {
            "marker": {
             "colorbar": {
              "outlinewidth": 0,
              "ticks": ""
             }
            },
            "type": "scatterpolar"
           }
          ],
          "scatterpolargl": [
           {
            "marker": {
             "colorbar": {
              "outlinewidth": 0,
              "ticks": ""
             }
            },
            "type": "scatterpolargl"
           }
          ],
          "scatterternary": [
           {
            "marker": {
             "colorbar": {
              "outlinewidth": 0,
              "ticks": ""
             }
            },
            "type": "scatterternary"
           }
          ],
          "surface": [
           {
            "colorbar": {
             "outlinewidth": 0,
             "ticks": ""
            },
            "colorscale": [
             [
              0,
              "#0d0887"
             ],
             [
              0.1111111111111111,
              "#46039f"
             ],
             [
              0.2222222222222222,
              "#7201a8"
             ],
             [
              0.3333333333333333,
              "#9c179e"
             ],
             [
              0.4444444444444444,
              "#bd3786"
             ],
             [
              0.5555555555555556,
              "#d8576b"
             ],
             [
              0.6666666666666666,
              "#ed7953"
             ],
             [
              0.7777777777777778,
              "#fb9f3a"
             ],
             [
              0.8888888888888888,
              "#fdca26"
             ],
             [
              1,
              "#f0f921"
             ]
            ],
            "type": "surface"
           }
          ],
          "table": [
           {
            "cells": {
             "fill": {
              "color": "#EBF0F8"
             },
             "line": {
              "color": "white"
             }
            },
            "header": {
             "fill": {
              "color": "#C8D4E3"
             },
             "line": {
              "color": "white"
             }
            },
            "type": "table"
           }
          ]
         },
         "layout": {
          "annotationdefaults": {
           "arrowcolor": "#2a3f5f",
           "arrowhead": 0,
           "arrowwidth": 1
          },
          "coloraxis": {
           "colorbar": {
            "outlinewidth": 0,
            "ticks": ""
           }
          },
          "colorscale": {
           "diverging": [
            [
             0,
             "#8e0152"
            ],
            [
             0.1,
             "#c51b7d"
            ],
            [
             0.2,
             "#de77ae"
            ],
            [
             0.3,
             "#f1b6da"
            ],
            [
             0.4,
             "#fde0ef"
            ],
            [
             0.5,
             "#f7f7f7"
            ],
            [
             0.6,
             "#e6f5d0"
            ],
            [
             0.7,
             "#b8e186"
            ],
            [
             0.8,
             "#7fbc41"
            ],
            [
             0.9,
             "#4d9221"
            ],
            [
             1,
             "#276419"
            ]
           ],
           "sequential": [
            [
             0,
             "#0d0887"
            ],
            [
             0.1111111111111111,
             "#46039f"
            ],
            [
             0.2222222222222222,
             "#7201a8"
            ],
            [
             0.3333333333333333,
             "#9c179e"
            ],
            [
             0.4444444444444444,
             "#bd3786"
            ],
            [
             0.5555555555555556,
             "#d8576b"
            ],
            [
             0.6666666666666666,
             "#ed7953"
            ],
            [
             0.7777777777777778,
             "#fb9f3a"
            ],
            [
             0.8888888888888888,
             "#fdca26"
            ],
            [
             1,
             "#f0f921"
            ]
           ],
           "sequentialminus": [
            [
             0,
             "#0d0887"
            ],
            [
             0.1111111111111111,
             "#46039f"
            ],
            [
             0.2222222222222222,
             "#7201a8"
            ],
            [
             0.3333333333333333,
             "#9c179e"
            ],
            [
             0.4444444444444444,
             "#bd3786"
            ],
            [
             0.5555555555555556,
             "#d8576b"
            ],
            [
             0.6666666666666666,
             "#ed7953"
            ],
            [
             0.7777777777777778,
             "#fb9f3a"
            ],
            [
             0.8888888888888888,
             "#fdca26"
            ],
            [
             1,
             "#f0f921"
            ]
           ]
          },
          "colorway": [
           "#636efa",
           "#EF553B",
           "#00cc96",
           "#ab63fa",
           "#FFA15A",
           "#19d3f3",
           "#FF6692",
           "#B6E880",
           "#FF97FF",
           "#FECB52"
          ],
          "font": {
           "color": "#2a3f5f"
          },
          "geo": {
           "bgcolor": "white",
           "lakecolor": "white",
           "landcolor": "#E5ECF6",
           "showlakes": true,
           "showland": true,
           "subunitcolor": "white"
          },
          "hoverlabel": {
           "align": "left"
          },
          "hovermode": "closest",
          "mapbox": {
           "style": "light"
          },
          "paper_bgcolor": "white",
          "plot_bgcolor": "#E5ECF6",
          "polar": {
           "angularaxis": {
            "gridcolor": "white",
            "linecolor": "white",
            "ticks": ""
           },
           "bgcolor": "#E5ECF6",
           "radialaxis": {
            "gridcolor": "white",
            "linecolor": "white",
            "ticks": ""
           }
          },
          "scene": {
           "xaxis": {
            "backgroundcolor": "#E5ECF6",
            "gridcolor": "white",
            "gridwidth": 2,
            "linecolor": "white",
            "showbackground": true,
            "ticks": "",
            "zerolinecolor": "white"
           },
           "yaxis": {
            "backgroundcolor": "#E5ECF6",
            "gridcolor": "white",
            "gridwidth": 2,
            "linecolor": "white",
            "showbackground": true,
            "ticks": "",
            "zerolinecolor": "white"
           },
           "zaxis": {
            "backgroundcolor": "#E5ECF6",
            "gridcolor": "white",
            "gridwidth": 2,
            "linecolor": "white",
            "showbackground": true,
            "ticks": "",
            "zerolinecolor": "white"
           }
          },
          "shapedefaults": {
           "line": {
            "color": "#2a3f5f"
           }
          },
          "ternary": {
           "aaxis": {
            "gridcolor": "white",
            "linecolor": "white",
            "ticks": ""
           },
           "baxis": {
            "gridcolor": "white",
            "linecolor": "white",
            "ticks": ""
           },
           "bgcolor": "#E5ECF6",
           "caxis": {
            "gridcolor": "white",
            "linecolor": "white",
            "ticks": ""
           }
          },
          "title": {
           "x": 0.05
          },
          "xaxis": {
           "automargin": true,
           "gridcolor": "white",
           "linecolor": "white",
           "ticks": "",
           "title": {
            "standoff": 15
           },
           "zerolinecolor": "white",
           "zerolinewidth": 2
          },
          "yaxis": {
           "automargin": true,
           "gridcolor": "white",
           "linecolor": "white",
           "ticks": "",
           "title": {
            "standoff": 15
           },
           "zerolinecolor": "white",
           "zerolinewidth": 2
          }
         }
        },
        "title": {
         "text": "Correlation ptratio - medv"
        },
        "xaxis": {
         "anchor": "y",
         "domain": [
          0,
          1
         ],
         "title": {
          "text": "ptratio"
         }
        },
        "yaxis": {
         "anchor": "x",
         "domain": [
          0,
          1
         ],
         "title": {
          "text": "medv"
         }
        }
       }
      },
      "text/html": [
       "<div>\n",
       "        \n",
       "        \n",
       "            <div id=\"cbbee91b-23e7-4918-b173-c4dfa9411691\" class=\"plotly-graph-div\" style=\"height:525px; width:100%;\"></div>\n",
       "            <script type=\"text/javascript\">\n",
       "                require([\"plotly\"], function(Plotly) {\n",
       "                    window.PLOTLYENV=window.PLOTLYENV || {};\n",
       "                    \n",
       "                if (document.getElementById(\"cbbee91b-23e7-4918-b173-c4dfa9411691\")) {\n",
       "                    Plotly.newPlot(\n",
       "                        'cbbee91b-23e7-4918-b173-c4dfa9411691',\n",
       "                        [{\"hoverlabel\": {\"namelength\": 0}, \"hovertemplate\": \"ptratio=%{x}<br>medv=%{y}\", \"legendgroup\": \"\", \"marker\": {\"color\": \"#636efa\", \"symbol\": \"circle\"}, \"mode\": \"markers\", \"name\": \"\", \"showlegend\": false, \"type\": \"scatter\", \"x\": [19.2, 19.7, 18.4, 14.7, 16.8, 15.2, 19.1, 18.4, 20.2, 14.7, 20.2, 16.6, 21.0, 19.7, 20.2, 20.2, 16.6, 20.2, 14.7, 14.7, 20.2, 21.2, 18.7, 16.6, 15.9, 18.4, 20.2, 15.6, 16.4, 18.3, 15.6, 17.8, 16.0, 18.4, 19.6, 17.8, 17.4, 20.2, 14.9, 20.2, 14.7, 19.0, 20.2, 20.2, 17.9, 20.2, 14.7, 13.0, 20.2, 20.2, 20.2, 13.0, 14.7, 17.4, 20.2, 18.6, 17.4, 21.0, 20.2, 20.2, 20.2, 18.4, 18.2, 17.8, 16.1, 18.6, 21.2, 21.0, 14.7, 20.2, 20.9, 20.9, 18.4, 20.2, 17.8, 20.2, 16.6, 20.2, 21.0, 20.2, 20.2, 20.2, 20.2, 13.0, 17.8, 18.7, 13.0, 20.2, 20.2, 20.2, 21.0, 17.8, 20.2, 19.2, 21.0, 14.9, 18.6, 20.2, 17.9, 17.8, 19.1, 17.4, 21.2, 17.0, 15.5, 14.7, 18.7, 20.2, 12.6, 14.7, 20.9, 18.4, 19.6, 20.2, 18.4, 19.2, 21.0, 18.3, 14.7, 21.0, 18.6, 16.6, 18.4, 19.2, 18.0, 17.8, 14.7, 18.7, 20.2, 17.8, 17.4, 16.6, 20.2, 21.0, 20.2, 20.2, 15.2, 20.2, 20.1, 19.2, 20.2, 17.8, 20.2, 20.2, 18.6, 21.2, 20.2, 19.1, 16.8, 21.0, 17.4, 15.2, 14.7, 20.2, 18.3, 19.2, 21.0, 19.2, 20.2, 17.4, 20.2, 20.2, 15.2, 20.2, 14.7, 21.0, 20.2, 21.0, 16.4, 19.7, 20.2, 18.6, 20.2, 20.2, 20.2, 17.8, 15.2, 20.2, 17.9, 18.2, 20.9, 20.9, 16.6, 20.2, 19.6, 12.6, 19.1, 13.0, 14.7, 20.2, 16.0, 14.7, 18.7, 13.0, 16.6, 17.6, 20.2, 16.6, 17.4, 20.2, 20.2, 20.2, 20.2, 13.0, 16.8, 12.6, 19.6, 20.2, 19.1, 21.0, 20.2, 14.7, 18.6, 14.7, 20.1, 20.2, 20.2, 14.8, 20.2, 14.7, 16.6, 15.2, 16.6, 19.7, 19.1, 17.9, 19.6, 20.2, 15.2, 20.2, 17.6, 18.9, 19.2, 18.4, 14.7, 19.2, 17.6, 20.2, 20.2, 19.0, 19.6, 16.4, 22.0, 22.0, 16.6, 20.2, 16.0, 19.1, 17.8, 20.2, 19.0, 20.2, 20.2, 18.7, 19.7, 17.4, 17.9, 15.2, 18.9, 20.2, 14.7, 20.2, 18.8, 14.7, 20.2, 20.2, 19.1, 18.4, 20.2, 18.4, 17.4, 20.2, 20.2, 14.7, 17.9, 18.6, 18.0, 20.2, 21.0, 14.7, 19.1, 18.5, 14.7, 20.2, 21.2, 21.0, 18.6, 18.7, 17.8, 18.5, 18.6, 16.6, 17.4, 20.2, 19.1, 18.7, 16.1, 17.9, 21.2, 20.2, 18.7, 20.2, 20.2, 14.4, 20.9, 20.2, 17.4, 17.4, 19.1, 18.6, 16.1, 13.0, 21.0, 14.8, 20.2, 21.0, 19.6, 18.4, 20.9, 19.1, 20.1, 19.2, 20.2, 15.2, 16.6, 20.2, 19.2, 20.2, 18.4, 16.0, 16.4, 20.1, 17.8, 20.2, 19.0, 16.1, 20.2, 20.9, 13.0, 17.8, 21.2, 14.7, 18.9, 21.0, 20.2, 17.8, 17.6, 19.1, 18.6, 16.6, 20.2, 16.9, 15.2, 20.2, 20.2, 19.1, 15.3, 17.8, 18.6, 17.8, 14.7, 19.7, 20.2, 20.2, 16.9, 17.9, 20.2, 20.2, 20.2, 15.2, 20.2, 20.2, 17.9, 20.2, 20.2, 21.1, 17.4, 18.6, 21.0, 17.6, 19.2, 18.3, 16.0, 18.5, 19.1, 17.8, 21.0, 20.2, 13.6, 17.3, 16.6], \"xaxis\": \"x\", \"y\": [21.7, 19.6, 20.3, 15.4, 20.5, 34.9, 26.2, 21.6, 14.1, 17.0, 10.4, 23.3, 21.0, 22.2, 8.7, 23.7, 22.2, 12.0, 21.5, 23.3, 9.5, 23.0, 20.8, 29.4, 16.5, 16.2, 18.4, 31.1, 21.9, 18.6, 29.1, 36.2, 21.7, 17.8, 23.1, 50.0, 29.0, 12.7, 35.1, 19.9, 13.8, 23.9, 20.2, 22.6, 19.4, 19.9, 15.6, 43.1, 13.4, 13.1, 11.3, 31.0, 42.3, 44.8, 25.0, 35.2, 24.0, 18.2, 10.2, 17.8, 7.2, 28.2, 22.9, 34.7, 22.0, 22.4, 17.1, 22.0, 24.1, 50.0, 21.7, 19.8, 33.4, 25.0, 22.0, 8.5, 23.2, 16.8, 18.2, 17.1, 20.6, 16.4, 19.9, 43.5, 21.6, 20.0, 50.0, 23.1, 20.6, 13.5, 12.7, 18.5, 13.1, 23.4, 18.4, 35.4, 19.3, 12.6, 26.6, 39.8, 29.6, 30.1, 14.0, 24.5, 32.7, 41.3, 28.7, 19.0, 34.6, 15.6, 20.1, 23.8, 23.8, 15.1, 16.1, 21.8, 13.9, 30.8, 11.8, 15.6, 23.7, 23.2, 28.4, 18.9, 21.4, 26.4, 23.8, 36.2, 16.1, 37.2, 21.7, 24.8, 20.8, 14.5, 12.3, 17.2, 18.9, 10.5, 7.0, 24.7, 16.1, 37.9, 21.9, 19.1, 24.4, 19.6, 23.0, 20.5, 25.0, 13.5, 37.6, 29.8, 13.4, 12.1, 24.1, 20.0, 19.6, 21.0, 21.7, 27.5, 8.8, 21.9, 18.9, 8.4, 22.7, 20.2, 12.7, 22.4, 28.7, 26.6, 11.9, 21.1, 13.9, 27.5, 15.2, 18.7, 21.7, 10.2, 20.0, 25.0, 26.5, 19.4, 22.6, 11.5, 22.2, 30.3, 18.8, 30.1, 19.4, 11.8, 28.6, 27.0, 20.3, 50.0, 20.1, 33.1, 17.2, 23.1, 26.7, 13.3, 21.4, 19.1, 9.7, 36.5, 23.4, 33.3, 24.6, 11.7, 20.5, 23.9, 13.0, 15.3, 22.6, 19.6, 8.1, 19.6, 13.4, 24.8, 16.7, 50.0, 23.6, 32.0, 22.0, 22.9, 17.3, 23.1, 18.5, 20.0, 15.0, 15.4, 33.2, 20.9, 21.2, 19.4, 22.3, 19.7, 29.1, 8.4, 20.7, 24.8, 25.0, 23.3, 18.2, 20.6, 24.6, 17.8, 20.3, 24.4, 19.3, 17.9, 22.9, 10.9, 7.2, 21.2, 25.0, 25.1, 19.3, 22.9, 17.4, 21.8, 24.3, 14.9, 17.5, 50.0, 13.8, 23.2, 20.3, 22.8, 14.2, 19.8, 46.7, 15.0, 7.2, 19.1, 21.2, 28.1, 33.2, 21.4, 14.8, 13.1, 17.6, 23.9, 17.4, 18.5, 13.3, 19.9, 21.7, 21.4, 21.2, 26.6, 22.5, 22.3, 41.7, 8.3, 18.5, 24.1, 26.4, 25.3, 17.4, 14.5, 33.4, 14.1, 14.6, 50.0, 19.5, 11.7, 31.5, 31.7, 42.8, 24.4, 23.5, 30.7, 14.5, 29.0, 12.5, 20.6, 20.4, 22.1, 19.5, 24.8, 20.1, 23.1, 14.9, 27.1, 23.7, 6.3, 28.5, 23.2, 23.1, 27.1, 23.0, 13.6, 29.6, 19.5, 28.0, 33.1, 50.0, 27.5, 36.0, 32.5, 17.8, 50.0, 22.0, 13.1, 9.6, 20.4, 31.2, 24.5, 33.0, 29.9, 22.2, 19.8, 16.5, 18.7, 19.1, 15.7, 24.0, 22.6, 20.7, 28.7, 17.8, 18.7, 29.8, 11.0, 19.3, 24.7, 5.6, 20.8, 10.2, 30.5, 50.0, 14.3, 14.4, 21.2, 13.3, 18.9, 48.3, 24.4, 23.1, 23.9, 24.2, 34.9, 23.9, 22.5, 22.0, 22.8, 16.6, 14.1, 50.0, 24.7, 23.7], \"yaxis\": \"y\"}],\n",
       "                        {\"legend\": {\"tracegroupgap\": 0}, \"template\": {\"data\": {\"bar\": [{\"error_x\": {\"color\": \"#2a3f5f\"}, \"error_y\": {\"color\": \"#2a3f5f\"}, \"marker\": {\"line\": {\"color\": \"#E5ECF6\", \"width\": 0.5}}, \"type\": \"bar\"}], \"barpolar\": [{\"marker\": {\"line\": {\"color\": \"#E5ECF6\", \"width\": 0.5}}, \"type\": \"barpolar\"}], \"carpet\": [{\"aaxis\": {\"endlinecolor\": \"#2a3f5f\", \"gridcolor\": \"white\", \"linecolor\": \"white\", \"minorgridcolor\": \"white\", \"startlinecolor\": \"#2a3f5f\"}, \"baxis\": {\"endlinecolor\": \"#2a3f5f\", \"gridcolor\": \"white\", \"linecolor\": \"white\", \"minorgridcolor\": \"white\", \"startlinecolor\": \"#2a3f5f\"}, \"type\": \"carpet\"}], \"choropleth\": [{\"colorbar\": {\"outlinewidth\": 0, \"ticks\": \"\"}, \"type\": \"choropleth\"}], \"contour\": [{\"colorbar\": {\"outlinewidth\": 0, \"ticks\": \"\"}, \"colorscale\": [[0.0, \"#0d0887\"], [0.1111111111111111, \"#46039f\"], [0.2222222222222222, \"#7201a8\"], [0.3333333333333333, \"#9c179e\"], [0.4444444444444444, \"#bd3786\"], [0.5555555555555556, \"#d8576b\"], [0.6666666666666666, \"#ed7953\"], [0.7777777777777778, \"#fb9f3a\"], [0.8888888888888888, \"#fdca26\"], [1.0, \"#f0f921\"]], \"type\": \"contour\"}], \"contourcarpet\": [{\"colorbar\": {\"outlinewidth\": 0, \"ticks\": \"\"}, \"type\": \"contourcarpet\"}], \"heatmap\": [{\"colorbar\": {\"outlinewidth\": 0, \"ticks\": \"\"}, \"colorscale\": [[0.0, \"#0d0887\"], [0.1111111111111111, \"#46039f\"], [0.2222222222222222, \"#7201a8\"], [0.3333333333333333, \"#9c179e\"], [0.4444444444444444, \"#bd3786\"], [0.5555555555555556, \"#d8576b\"], [0.6666666666666666, \"#ed7953\"], [0.7777777777777778, \"#fb9f3a\"], [0.8888888888888888, \"#fdca26\"], [1.0, \"#f0f921\"]], \"type\": \"heatmap\"}], \"heatmapgl\": [{\"colorbar\": {\"outlinewidth\": 0, \"ticks\": \"\"}, \"colorscale\": [[0.0, \"#0d0887\"], [0.1111111111111111, \"#46039f\"], [0.2222222222222222, \"#7201a8\"], [0.3333333333333333, \"#9c179e\"], [0.4444444444444444, \"#bd3786\"], [0.5555555555555556, \"#d8576b\"], [0.6666666666666666, \"#ed7953\"], [0.7777777777777778, \"#fb9f3a\"], [0.8888888888888888, \"#fdca26\"], [1.0, \"#f0f921\"]], \"type\": \"heatmapgl\"}], \"histogram\": [{\"marker\": {\"colorbar\": {\"outlinewidth\": 0, \"ticks\": \"\"}}, \"type\": \"histogram\"}], \"histogram2d\": [{\"colorbar\": {\"outlinewidth\": 0, \"ticks\": \"\"}, \"colorscale\": [[0.0, \"#0d0887\"], [0.1111111111111111, \"#46039f\"], [0.2222222222222222, \"#7201a8\"], [0.3333333333333333, \"#9c179e\"], [0.4444444444444444, \"#bd3786\"], [0.5555555555555556, \"#d8576b\"], [0.6666666666666666, \"#ed7953\"], [0.7777777777777778, \"#fb9f3a\"], [0.8888888888888888, \"#fdca26\"], [1.0, \"#f0f921\"]], \"type\": \"histogram2d\"}], \"histogram2dcontour\": [{\"colorbar\": {\"outlinewidth\": 0, \"ticks\": \"\"}, \"colorscale\": [[0.0, \"#0d0887\"], [0.1111111111111111, \"#46039f\"], [0.2222222222222222, \"#7201a8\"], [0.3333333333333333, \"#9c179e\"], [0.4444444444444444, \"#bd3786\"], [0.5555555555555556, \"#d8576b\"], [0.6666666666666666, \"#ed7953\"], [0.7777777777777778, \"#fb9f3a\"], [0.8888888888888888, \"#fdca26\"], [1.0, \"#f0f921\"]], \"type\": \"histogram2dcontour\"}], \"mesh3d\": [{\"colorbar\": {\"outlinewidth\": 0, \"ticks\": \"\"}, \"type\": \"mesh3d\"}], \"parcoords\": [{\"line\": {\"colorbar\": {\"outlinewidth\": 0, \"ticks\": \"\"}}, \"type\": \"parcoords\"}], \"pie\": [{\"automargin\": true, \"type\": \"pie\"}], \"scatter\": [{\"marker\": {\"colorbar\": {\"outlinewidth\": 0, \"ticks\": \"\"}}, \"type\": \"scatter\"}], \"scatter3d\": [{\"line\": {\"colorbar\": {\"outlinewidth\": 0, \"ticks\": \"\"}}, \"marker\": {\"colorbar\": {\"outlinewidth\": 0, \"ticks\": \"\"}}, \"type\": \"scatter3d\"}], \"scattercarpet\": [{\"marker\": {\"colorbar\": {\"outlinewidth\": 0, \"ticks\": \"\"}}, \"type\": \"scattercarpet\"}], \"scattergeo\": [{\"marker\": {\"colorbar\": {\"outlinewidth\": 0, \"ticks\": \"\"}}, \"type\": \"scattergeo\"}], \"scattergl\": [{\"marker\": {\"colorbar\": {\"outlinewidth\": 0, \"ticks\": \"\"}}, \"type\": \"scattergl\"}], \"scattermapbox\": [{\"marker\": {\"colorbar\": {\"outlinewidth\": 0, \"ticks\": \"\"}}, \"type\": \"scattermapbox\"}], \"scatterpolar\": [{\"marker\": {\"colorbar\": {\"outlinewidth\": 0, \"ticks\": \"\"}}, \"type\": \"scatterpolar\"}], \"scatterpolargl\": [{\"marker\": {\"colorbar\": {\"outlinewidth\": 0, \"ticks\": \"\"}}, \"type\": \"scatterpolargl\"}], \"scatterternary\": [{\"marker\": {\"colorbar\": {\"outlinewidth\": 0, \"ticks\": \"\"}}, \"type\": \"scatterternary\"}], \"surface\": [{\"colorbar\": {\"outlinewidth\": 0, \"ticks\": \"\"}, \"colorscale\": [[0.0, \"#0d0887\"], [0.1111111111111111, \"#46039f\"], [0.2222222222222222, \"#7201a8\"], [0.3333333333333333, \"#9c179e\"], [0.4444444444444444, \"#bd3786\"], [0.5555555555555556, \"#d8576b\"], [0.6666666666666666, \"#ed7953\"], [0.7777777777777778, \"#fb9f3a\"], [0.8888888888888888, \"#fdca26\"], [1.0, \"#f0f921\"]], \"type\": \"surface\"}], \"table\": [{\"cells\": {\"fill\": {\"color\": \"#EBF0F8\"}, \"line\": {\"color\": \"white\"}}, \"header\": {\"fill\": {\"color\": \"#C8D4E3\"}, \"line\": {\"color\": \"white\"}}, \"type\": \"table\"}]}, \"layout\": {\"annotationdefaults\": {\"arrowcolor\": \"#2a3f5f\", \"arrowhead\": 0, \"arrowwidth\": 1}, \"coloraxis\": {\"colorbar\": {\"outlinewidth\": 0, \"ticks\": \"\"}}, \"colorscale\": {\"diverging\": [[0, \"#8e0152\"], [0.1, \"#c51b7d\"], [0.2, \"#de77ae\"], [0.3, \"#f1b6da\"], [0.4, \"#fde0ef\"], [0.5, \"#f7f7f7\"], [0.6, \"#e6f5d0\"], [0.7, \"#b8e186\"], [0.8, \"#7fbc41\"], [0.9, \"#4d9221\"], [1, \"#276419\"]], \"sequential\": [[0.0, \"#0d0887\"], [0.1111111111111111, \"#46039f\"], [0.2222222222222222, \"#7201a8\"], [0.3333333333333333, \"#9c179e\"], [0.4444444444444444, \"#bd3786\"], [0.5555555555555556, \"#d8576b\"], [0.6666666666666666, \"#ed7953\"], [0.7777777777777778, \"#fb9f3a\"], [0.8888888888888888, \"#fdca26\"], [1.0, \"#f0f921\"]], \"sequentialminus\": [[0.0, \"#0d0887\"], [0.1111111111111111, \"#46039f\"], [0.2222222222222222, \"#7201a8\"], [0.3333333333333333, \"#9c179e\"], [0.4444444444444444, \"#bd3786\"], [0.5555555555555556, \"#d8576b\"], [0.6666666666666666, \"#ed7953\"], [0.7777777777777778, \"#fb9f3a\"], [0.8888888888888888, \"#fdca26\"], [1.0, \"#f0f921\"]]}, \"colorway\": [\"#636efa\", \"#EF553B\", \"#00cc96\", \"#ab63fa\", \"#FFA15A\", \"#19d3f3\", \"#FF6692\", \"#B6E880\", \"#FF97FF\", \"#FECB52\"], \"font\": {\"color\": \"#2a3f5f\"}, \"geo\": {\"bgcolor\": \"white\", \"lakecolor\": \"white\", \"landcolor\": \"#E5ECF6\", \"showlakes\": true, \"showland\": true, \"subunitcolor\": \"white\"}, \"hoverlabel\": {\"align\": \"left\"}, \"hovermode\": \"closest\", \"mapbox\": {\"style\": \"light\"}, \"paper_bgcolor\": \"white\", \"plot_bgcolor\": \"#E5ECF6\", \"polar\": {\"angularaxis\": {\"gridcolor\": \"white\", \"linecolor\": \"white\", \"ticks\": \"\"}, \"bgcolor\": \"#E5ECF6\", \"radialaxis\": {\"gridcolor\": \"white\", \"linecolor\": \"white\", \"ticks\": \"\"}}, \"scene\": {\"xaxis\": {\"backgroundcolor\": \"#E5ECF6\", \"gridcolor\": \"white\", \"gridwidth\": 2, \"linecolor\": \"white\", \"showbackground\": true, \"ticks\": \"\", \"zerolinecolor\": \"white\"}, \"yaxis\": {\"backgroundcolor\": \"#E5ECF6\", \"gridcolor\": \"white\", \"gridwidth\": 2, \"linecolor\": \"white\", \"showbackground\": true, \"ticks\": \"\", \"zerolinecolor\": \"white\"}, \"zaxis\": {\"backgroundcolor\": \"#E5ECF6\", \"gridcolor\": \"white\", \"gridwidth\": 2, \"linecolor\": \"white\", \"showbackground\": true, \"ticks\": \"\", \"zerolinecolor\": \"white\"}}, \"shapedefaults\": {\"line\": {\"color\": \"#2a3f5f\"}}, \"ternary\": {\"aaxis\": {\"gridcolor\": \"white\", \"linecolor\": \"white\", \"ticks\": \"\"}, \"baxis\": {\"gridcolor\": \"white\", \"linecolor\": \"white\", \"ticks\": \"\"}, \"bgcolor\": \"#E5ECF6\", \"caxis\": {\"gridcolor\": \"white\", \"linecolor\": \"white\", \"ticks\": \"\"}}, \"title\": {\"x\": 0.05}, \"xaxis\": {\"automargin\": true, \"gridcolor\": \"white\", \"linecolor\": \"white\", \"ticks\": \"\", \"title\": {\"standoff\": 15}, \"zerolinecolor\": \"white\", \"zerolinewidth\": 2}, \"yaxis\": {\"automargin\": true, \"gridcolor\": \"white\", \"linecolor\": \"white\", \"ticks\": \"\", \"title\": {\"standoff\": 15}, \"zerolinecolor\": \"white\", \"zerolinewidth\": 2}}}, \"title\": {\"text\": \"Correlation ptratio - medv\"}, \"xaxis\": {\"anchor\": \"y\", \"domain\": [0.0, 1.0], \"title\": {\"text\": \"ptratio\"}}, \"yaxis\": {\"anchor\": \"x\", \"domain\": [0.0, 1.0], \"title\": {\"text\": \"medv\"}}},\n",
       "                        {\"responsive\": true}\n",
       "                    ).then(function(){\n",
       "                            \n",
       "var gd = document.getElementById('cbbee91b-23e7-4918-b173-c4dfa9411691');\n",
       "var x = new MutationObserver(function (mutations, observer) {{\n",
       "        var display = window.getComputedStyle(gd).display;\n",
       "        if (!display || display === 'none') {{\n",
       "            console.log([gd, 'removed!']);\n",
       "            Plotly.purge(gd);\n",
       "            observer.disconnect();\n",
       "        }}\n",
       "}});\n",
       "\n",
       "// Listen for the removal of the full notebook cells\n",
       "var notebookContainer = gd.closest('#notebook-container');\n",
       "if (notebookContainer) {{\n",
       "    x.observe(notebookContainer, {childList: true});\n",
       "}}\n",
       "\n",
       "// Listen for the clearing of the current output cell\n",
       "var outputEl = gd.closest('.output');\n",
       "if (outputEl) {{\n",
       "    x.observe(outputEl, {childList: true});\n",
       "}}\n",
       "\n",
       "                        })\n",
       "                };\n",
       "                });\n",
       "            </script>\n",
       "        </div>"
      ]
     },
     "metadata": {},
     "output_type": "display_data"
    }
   ],
   "source": [
    "px.scatter(data, x='ptratio', y='medv', title='Correlation ptratio - medv')"
   ]
  },
  {
   "cell_type": "markdown",
   "metadata": {},
   "source": [
    "### What do these plots tell you about the relationships between these variables and the prices of homes in Boston? Are these the relationships you expected to see in these variables?"
   ]
  },
  {
   "cell_type": "markdown",
   "metadata": {},
   "source": [
    "Only 2 features have a correlation higger than 0.7 with price (medv), 'lstat' and 'rm'. It seems that the status of the population and the number of rooms are the most important features when defining prices.\n"
   ]
  },
  {
   "cell_type": "markdown",
   "metadata": {},
   "source": [
    "### Make a heatmap of the remaining variables. Are there any variables that you did not consider that have very high correlations? What are they?"
   ]
  },
  {
   "cell_type": "code",
   "execution_count": 106,
   "metadata": {},
   "outputs": [],
   "source": [
    "# Already done"
   ]
  },
  {
   "cell_type": "markdown",
   "metadata": {},
   "source": [
    "### Calculate Statistics\n",
    "Calculate descriptive statistics for housing price. Include the minimum, maximum, mean, median, and standard deviation. "
   ]
  },
  {
   "cell_type": "code",
   "execution_count": 107,
   "metadata": {},
   "outputs": [],
   "source": [
    "# Already done"
   ]
  },
  {
   "cell_type": "markdown",
   "metadata": {},
   "source": [
    "----\n",
    "\n",
    "## Developing a Model"
   ]
  },
  {
   "cell_type": "markdown",
   "metadata": {},
   "source": [
    "### Implementation: Define a Performance Metric\n",
    "What is the performance meteric with which you will determine the performance of your model? Create a function that calculates this performance metric, and then returns the score. "
   ]
  },
  {
   "cell_type": "code",
   "execution_count": 108,
   "metadata": {},
   "outputs": [],
   "source": [
    "from sklearn.metrics import r2_score\n",
    "\n",
    "def performance_metric(y_true, y_predict):\n",
    "    \"\"\" Calculates and returns the performance score between \n",
    "        true and predicted values based on the metric chosen. \"\"\"\n",
    "    return r2_score(y_true, y_predict)"
   ]
  },
  {
   "cell_type": "markdown",
   "metadata": {},
   "source": [
    "### Implementation: Shuffle and Split Data\n",
    "Split the data into the testing and training datasets. Shuffle the data as well to remove any bias in selecting the traing and test. "
   ]
  },
  {
   "cell_type": "code",
   "execution_count": 109,
   "metadata": {},
   "outputs": [],
   "source": [
    "# X-y split:\n",
    "\n",
    "X = data.drop(columns=['medv'])\n",
    "y = data['medv']"
   ]
  },
  {
   "cell_type": "code",
   "execution_count": 116,
   "metadata": {},
   "outputs": [],
   "source": [
    "# train-test split:\n",
    "\n",
    "X_train, X_test, y_train, y_test = train_test_split(X, y, test_size=0.3, shuffle=True, \n",
    "                                                    random_state=42)"
   ]
  },
  {
   "cell_type": "markdown",
   "metadata": {},
   "source": [
    "----\n",
    "\n",
    "## Analyzing Model Performance\n",
    "Next, we are going to build a Random Forest Regressor, and test its performance with several different parameter settings."
   ]
  },
  {
   "cell_type": "markdown",
   "metadata": {},
   "source": [
    "### Learning Curves\n",
    "Lets build the different models. Set the max_depth parameter to 2, 4, 6, 8, and 10 respectively. "
   ]
  },
  {
   "cell_type": "code",
   "execution_count": 129,
   "metadata": {},
   "outputs": [
    {
     "data": {
      "text/plain": [
       "GridSearchCV(cv=5, error_score=nan,\n",
       "             estimator=RandomForestRegressor(bootstrap=True, ccp_alpha=0.0,\n",
       "                                             criterion='mse', max_depth=None,\n",
       "                                             max_features='auto',\n",
       "                                             max_leaf_nodes=None,\n",
       "                                             max_samples=None,\n",
       "                                             min_impurity_decrease=0.0,\n",
       "                                             min_impurity_split=None,\n",
       "                                             min_samples_leaf=1,\n",
       "                                             min_samples_split=2,\n",
       "                                             min_weight_fraction_leaf=0.0,\n",
       "                                             n_estimators=100, n_jobs=None,\n",
       "                                             oob_score=False, random_state=42,\n",
       "                                             verbose=0, warm_start=False),\n",
       "             iid='deprecated', n_jobs=None,\n",
       "             param_grid={'max_depth': [2, 4, 6, 8, 10]},\n",
       "             pre_dispatch='2*n_jobs', refit=True, return_train_score=False,\n",
       "             scoring=None, verbose=0)"
      ]
     },
     "execution_count": 129,
     "metadata": {},
     "output_type": "execute_result"
    }
   ],
   "source": [
    "param_grid = {'max_depth': [2, 4, 6, 8, 10]}\n",
    "CV_rf = GridSearchCV(RandomForestRegressor(n_estimators=100, random_state=42), param_grid, cv=5)\n",
    "CV_rf.fit(X_train, y_train)"
   ]
  },
  {
   "cell_type": "markdown",
   "metadata": {},
   "source": [
    "Now, plot the score for each tree on the training set and on the testing set."
   ]
  },
  {
   "cell_type": "code",
   "execution_count": 134,
   "metadata": {
    "scrolled": false
   },
   "outputs": [],
   "source": [
    "scoring = pd.DataFrame(CV_rf.cv_results_)"
   ]
  },
  {
   "cell_type": "code",
   "execution_count": 135,
   "metadata": {},
   "outputs": [
    {
     "data": {
      "text/html": [
       "<div>\n",
       "<style scoped>\n",
       "    .dataframe tbody tr th:only-of-type {\n",
       "        vertical-align: middle;\n",
       "    }\n",
       "\n",
       "    .dataframe tbody tr th {\n",
       "        vertical-align: top;\n",
       "    }\n",
       "\n",
       "    .dataframe thead th {\n",
       "        text-align: right;\n",
       "    }\n",
       "</style>\n",
       "<table border=\"1\" class=\"dataframe\">\n",
       "  <thead>\n",
       "    <tr style=\"text-align: right;\">\n",
       "      <th></th>\n",
       "      <th>mean_fit_time</th>\n",
       "      <th>std_fit_time</th>\n",
       "      <th>mean_score_time</th>\n",
       "      <th>std_score_time</th>\n",
       "      <th>param_max_depth</th>\n",
       "      <th>params</th>\n",
       "      <th>split0_test_score</th>\n",
       "      <th>split1_test_score</th>\n",
       "      <th>split2_test_score</th>\n",
       "      <th>split3_test_score</th>\n",
       "      <th>split4_test_score</th>\n",
       "      <th>mean_test_score</th>\n",
       "      <th>std_test_score</th>\n",
       "      <th>rank_test_score</th>\n",
       "    </tr>\n",
       "  </thead>\n",
       "  <tbody>\n",
       "    <tr>\n",
       "      <td>0</td>\n",
       "      <td>0.110048</td>\n",
       "      <td>0.006640</td>\n",
       "      <td>0.004858</td>\n",
       "      <td>0.000291</td>\n",
       "      <td>2</td>\n",
       "      <td>{'max_depth': 2}</td>\n",
       "      <td>0.467787</td>\n",
       "      <td>0.687486</td>\n",
       "      <td>0.423166</td>\n",
       "      <td>0.853236</td>\n",
       "      <td>0.853112</td>\n",
       "      <td>0.656957</td>\n",
       "      <td>0.183509</td>\n",
       "      <td>5</td>\n",
       "    </tr>\n",
       "    <tr>\n",
       "      <td>1</td>\n",
       "      <td>0.117568</td>\n",
       "      <td>0.003479</td>\n",
       "      <td>0.004729</td>\n",
       "      <td>0.000245</td>\n",
       "      <td>4</td>\n",
       "      <td>{'max_depth': 4}</td>\n",
       "      <td>0.661876</td>\n",
       "      <td>0.786532</td>\n",
       "      <td>0.510092</td>\n",
       "      <td>0.892780</td>\n",
       "      <td>0.927518</td>\n",
       "      <td>0.755760</td>\n",
       "      <td>0.153876</td>\n",
       "      <td>4</td>\n",
       "    </tr>\n",
       "    <tr>\n",
       "      <td>2</td>\n",
       "      <td>0.130257</td>\n",
       "      <td>0.003701</td>\n",
       "      <td>0.005013</td>\n",
       "      <td>0.000347</td>\n",
       "      <td>6</td>\n",
       "      <td>{'max_depth': 6}</td>\n",
       "      <td>0.674776</td>\n",
       "      <td>0.839000</td>\n",
       "      <td>0.519725</td>\n",
       "      <td>0.902198</td>\n",
       "      <td>0.939425</td>\n",
       "      <td>0.775025</td>\n",
       "      <td>0.156538</td>\n",
       "      <td>3</td>\n",
       "    </tr>\n",
       "    <tr>\n",
       "      <td>3</td>\n",
       "      <td>0.142769</td>\n",
       "      <td>0.003404</td>\n",
       "      <td>0.005003</td>\n",
       "      <td>0.000182</td>\n",
       "      <td>8</td>\n",
       "      <td>{'max_depth': 8}</td>\n",
       "      <td>0.678955</td>\n",
       "      <td>0.851833</td>\n",
       "      <td>0.526351</td>\n",
       "      <td>0.906952</td>\n",
       "      <td>0.943540</td>\n",
       "      <td>0.781526</td>\n",
       "      <td>0.156562</td>\n",
       "      <td>1</td>\n",
       "    </tr>\n",
       "    <tr>\n",
       "      <td>4</td>\n",
       "      <td>0.152175</td>\n",
       "      <td>0.004877</td>\n",
       "      <td>0.005336</td>\n",
       "      <td>0.000407</td>\n",
       "      <td>10</td>\n",
       "      <td>{'max_depth': 10}</td>\n",
       "      <td>0.681918</td>\n",
       "      <td>0.847776</td>\n",
       "      <td>0.524006</td>\n",
       "      <td>0.907977</td>\n",
       "      <td>0.943518</td>\n",
       "      <td>0.781039</td>\n",
       "      <td>0.156753</td>\n",
       "      <td>2</td>\n",
       "    </tr>\n",
       "  </tbody>\n",
       "</table>\n",
       "</div>"
      ],
      "text/plain": [
       "   mean_fit_time  std_fit_time  mean_score_time  std_score_time  \\\n",
       "0       0.110048      0.006640         0.004858        0.000291   \n",
       "1       0.117568      0.003479         0.004729        0.000245   \n",
       "2       0.130257      0.003701         0.005013        0.000347   \n",
       "3       0.142769      0.003404         0.005003        0.000182   \n",
       "4       0.152175      0.004877         0.005336        0.000407   \n",
       "\n",
       "  param_max_depth             params  split0_test_score  split1_test_score  \\\n",
       "0               2   {'max_depth': 2}           0.467787           0.687486   \n",
       "1               4   {'max_depth': 4}           0.661876           0.786532   \n",
       "2               6   {'max_depth': 6}           0.674776           0.839000   \n",
       "3               8   {'max_depth': 8}           0.678955           0.851833   \n",
       "4              10  {'max_depth': 10}           0.681918           0.847776   \n",
       "\n",
       "   split2_test_score  split3_test_score  split4_test_score  mean_test_score  \\\n",
       "0           0.423166           0.853236           0.853112         0.656957   \n",
       "1           0.510092           0.892780           0.927518         0.755760   \n",
       "2           0.519725           0.902198           0.939425         0.775025   \n",
       "3           0.526351           0.906952           0.943540         0.781526   \n",
       "4           0.524006           0.907977           0.943518         0.781039   \n",
       "\n",
       "   std_test_score  rank_test_score  \n",
       "0        0.183509                5  \n",
       "1        0.153876                4  \n",
       "2        0.156538                3  \n",
       "3        0.156562                1  \n",
       "4        0.156753                2  "
      ]
     },
     "execution_count": 135,
     "metadata": {},
     "output_type": "execute_result"
    }
   ],
   "source": [
    "scoring"
   ]
  },
  {
   "cell_type": "code",
   "execution_count": 136,
   "metadata": {},
   "outputs": [
    {
     "data": {
      "text/html": [
       "<div>\n",
       "<style scoped>\n",
       "    .dataframe tbody tr th:only-of-type {\n",
       "        vertical-align: middle;\n",
       "    }\n",
       "\n",
       "    .dataframe tbody tr th {\n",
       "        vertical-align: top;\n",
       "    }\n",
       "\n",
       "    .dataframe thead th {\n",
       "        text-align: right;\n",
       "    }\n",
       "</style>\n",
       "<table border=\"1\" class=\"dataframe\">\n",
       "  <thead>\n",
       "    <tr style=\"text-align: right;\">\n",
       "      <th></th>\n",
       "      <th>params</th>\n",
       "      <th>mean_test_score</th>\n",
       "    </tr>\n",
       "  </thead>\n",
       "  <tbody>\n",
       "    <tr>\n",
       "      <td>0</td>\n",
       "      <td>{'max_depth': 2}</td>\n",
       "      <td>0.656957</td>\n",
       "    </tr>\n",
       "    <tr>\n",
       "      <td>1</td>\n",
       "      <td>{'max_depth': 4}</td>\n",
       "      <td>0.755760</td>\n",
       "    </tr>\n",
       "    <tr>\n",
       "      <td>2</td>\n",
       "      <td>{'max_depth': 6}</td>\n",
       "      <td>0.775025</td>\n",
       "    </tr>\n",
       "    <tr>\n",
       "      <td>3</td>\n",
       "      <td>{'max_depth': 8}</td>\n",
       "      <td>0.781526</td>\n",
       "    </tr>\n",
       "    <tr>\n",
       "      <td>4</td>\n",
       "      <td>{'max_depth': 10}</td>\n",
       "      <td>0.781039</td>\n",
       "    </tr>\n",
       "  </tbody>\n",
       "</table>\n",
       "</div>"
      ],
      "text/plain": [
       "              params  mean_test_score\n",
       "0   {'max_depth': 2}         0.656957\n",
       "1   {'max_depth': 4}         0.755760\n",
       "2   {'max_depth': 6}         0.775025\n",
       "3   {'max_depth': 8}         0.781526\n",
       "4  {'max_depth': 10}         0.781039"
      ]
     },
     "execution_count": 136,
     "metadata": {},
     "output_type": "execute_result"
    }
   ],
   "source": [
    "scoring = scoring[['params', 'mean_test_score']]\n",
    "scoring"
   ]
  },
  {
   "cell_type": "markdown",
   "metadata": {},
   "source": [
    "What do these results tell you about the effect of the depth of the trees on the performance of the model?"
   ]
  },
  {
   "cell_type": "markdown",
   "metadata": {},
   "source": [
    "At greater depth, less improvement due to overfitting. "
   ]
  },
  {
   "cell_type": "code",
   "execution_count": 156,
   "metadata": {},
   "outputs": [
    {
     "data": {
      "text/plain": [
       "{'max_depth': 8}"
      ]
     },
     "execution_count": 156,
     "metadata": {},
     "output_type": "execute_result"
    }
   ],
   "source": [
    "# Best parameter:\n",
    "\n",
    "CV_rf.best_params_"
   ]
  },
  {
   "cell_type": "markdown",
   "metadata": {},
   "source": [
    "### Bias-Variance Tradeoff\n",
    "When the model is trained with a maximum depth of 1, does the model suffer from high bias or from high variance? How about when the model is trained with a maximum depth of 10?"
   ]
  },
  {
   "cell_type": "code",
   "execution_count": null,
   "metadata": {
    "scrolled": true
   },
   "outputs": [],
   "source": []
  },
  {
   "cell_type": "markdown",
   "metadata": {},
   "source": [
    "### Best-Guess Optimal Model\n",
    "What is the max_depth parameter that you think would optimize the model? Run your model and explain its performance."
   ]
  },
  {
   "cell_type": "code",
   "execution_count": 158,
   "metadata": {},
   "outputs": [
    {
     "data": {
      "text/plain": [
       "RandomForestRegressor(bootstrap=True, ccp_alpha=0.0, criterion='mse',\n",
       "                      max_depth=8, max_features='auto', max_leaf_nodes=None,\n",
       "                      max_samples=None, min_impurity_decrease=0.0,\n",
       "                      min_impurity_split=None, min_samples_leaf=1,\n",
       "                      min_samples_split=2, min_weight_fraction_leaf=0.0,\n",
       "                      n_estimators=100, n_jobs=None, oob_score=False,\n",
       "                      random_state=42, verbose=0, warm_start=False)"
      ]
     },
     "execution_count": 158,
     "metadata": {},
     "output_type": "execute_result"
    }
   ],
   "source": [
    "rfr = RandomForestRegressor(n_estimators=100, random_state=42, max_depth=8)\n",
    "rfr.fit(X_train, y_train)"
   ]
  },
  {
   "cell_type": "code",
   "execution_count": 159,
   "metadata": {},
   "outputs": [
    {
     "data": {
      "text/plain": [
       "0.8185232381058627"
      ]
     },
     "execution_count": 159,
     "metadata": {},
     "output_type": "execute_result"
    }
   ],
   "source": [
    "y_pred = rfr.predict(X_test)\n",
    "performance_metric(y_test, y_pred)"
   ]
  },
  {
   "cell_type": "markdown",
   "metadata": {},
   "source": [
    "### Applicability\n",
    "*In a few sentences, discuss whether the constructed model should or should not be used in a real-world setting.*  \n",
    "**Hint:** Some questions to answering:\n",
    "- *How relevant today is data that was collected from 1978?*\n",
    "- *Are the features present in the data sufficient to describe a home?*\n",
    "- *Is the model robust enough to make consistent predictions?*\n",
    "- *Would data collected in an urban city like Boston be applicable in a rural city?*"
   ]
  },
  {
   "cell_type": "code",
   "execution_count": null,
   "metadata": {},
   "outputs": [],
   "source": [
    "# Your response here"
   ]
  }
 ],
 "metadata": {
  "anaconda-cloud": {},
  "kernelspec": {
   "display_name": "Python 3",
   "language": "python",
   "name": "python3"
  },
  "language_info": {
   "codemirror_mode": {
    "name": "ipython",
    "version": 3
   },
   "file_extension": ".py",
   "mimetype": "text/x-python",
   "name": "python",
   "nbconvert_exporter": "python",
   "pygments_lexer": "ipython3",
   "version": "3.7.4"
  },
  "toc": {
   "base_numbering": 1,
   "nav_menu": {},
   "number_sections": true,
   "sideBar": true,
   "skip_h1_title": false,
   "title_cell": "Table of Contents",
   "title_sidebar": "Contents",
   "toc_cell": false,
   "toc_position": {},
   "toc_section_display": true,
   "toc_window_display": true
  },
  "varInspector": {
   "cols": {
    "lenName": 16,
    "lenType": 16,
    "lenVar": 40
   },
   "kernels_config": {
    "python": {
     "delete_cmd_postfix": "",
     "delete_cmd_prefix": "del ",
     "library": "var_list.py",
     "varRefreshCmd": "print(var_dic_list())"
    },
    "r": {
     "delete_cmd_postfix": ") ",
     "delete_cmd_prefix": "rm(",
     "library": "var_list.r",
     "varRefreshCmd": "cat(var_dic_list()) "
    }
   },
   "types_to_exclude": [
    "module",
    "function",
    "builtin_function_or_method",
    "instance",
    "_Feature"
   ],
   "window_display": false
  }
 },
 "nbformat": 4,
 "nbformat_minor": 1
}
